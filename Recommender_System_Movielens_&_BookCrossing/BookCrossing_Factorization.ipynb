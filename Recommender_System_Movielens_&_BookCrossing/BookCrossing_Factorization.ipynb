{
 "cells": [
  {
   "cell_type": "markdown",
   "metadata": {
    "collapsed": true
   },
   "source": [
    "--- \n",
    "\n",
    "---\n",
    "# Book-Crossing Dataset\n",
    "---\n",
    "\n",
    "---"
   ]
  },
  {
   "cell_type": "code",
   "execution_count": 1,
   "metadata": {
    "collapsed": true
   },
   "outputs": [],
   "source": [
    "import pandas as pd\n",
    "import numpy as np\n",
    "\n",
    "import matplotlib.pyplot as plt\n",
    "%matplotlib inline\n",
    "\n",
    "from sklearn.cross_validation import train_test_split"
   ]
  },
  {
   "cell_type": "markdown",
   "metadata": {},
   "source": [
    "### 1. Reading files"
   ]
  },
  {
   "cell_type": "code",
   "execution_count": 2,
   "metadata": {},
   "outputs": [
    {
     "name": "stdout",
     "output_type": "stream",
     "text": [
      "(271379, 5)\n"
     ]
    },
    {
     "name": "stderr",
     "output_type": "stream",
     "text": [
      "C:\\Python27\\lib\\site-packages\\pandas\\io\\parsers.py:1170: DtypeWarning: Columns (3) have mixed types. Specify dtype option on import or set low_memory=False.\n",
      "  data = self._reader.read(nrows)\n"
     ]
    },
    {
     "data": {
      "text/html": [
       "<div>\n",
       "<table border=\"1\" class=\"dataframe\">\n",
       "  <thead>\n",
       "    <tr style=\"text-align: right;\">\n",
       "      <th></th>\n",
       "      <th>book_id</th>\n",
       "      <th>title</th>\n",
       "      <th>author</th>\n",
       "      <th>year</th>\n",
       "      <th>publisher</th>\n",
       "    </tr>\n",
       "  </thead>\n",
       "  <tbody>\n",
       "    <tr>\n",
       "      <th>0</th>\n",
       "      <td>0195153448</td>\n",
       "      <td>Classical Mythology</td>\n",
       "      <td>Mark P. O. Morford</td>\n",
       "      <td>2002</td>\n",
       "      <td>Oxford University Press</td>\n",
       "    </tr>\n",
       "    <tr>\n",
       "      <th>1</th>\n",
       "      <td>0002005018</td>\n",
       "      <td>Clara Callan</td>\n",
       "      <td>Richard Bruce Wright</td>\n",
       "      <td>2001</td>\n",
       "      <td>HarperFlamingo Canada</td>\n",
       "    </tr>\n",
       "    <tr>\n",
       "      <th>2</th>\n",
       "      <td>0060973129</td>\n",
       "      <td>Decision in Normandy</td>\n",
       "      <td>Carlo D'Este</td>\n",
       "      <td>1991</td>\n",
       "      <td>HarperPerennial</td>\n",
       "    </tr>\n",
       "    <tr>\n",
       "      <th>3</th>\n",
       "      <td>0374157065</td>\n",
       "      <td>Flu: The Story of the Great Influenza Pandemic...</td>\n",
       "      <td>Gina Bari Kolata</td>\n",
       "      <td>1999</td>\n",
       "      <td>Farrar Straus Giroux</td>\n",
       "    </tr>\n",
       "    <tr>\n",
       "      <th>4</th>\n",
       "      <td>0393045218</td>\n",
       "      <td>The Mummies of Urumchi</td>\n",
       "      <td>E. J. W. Barber</td>\n",
       "      <td>1999</td>\n",
       "      <td>W. W. Norton &amp;amp; Company</td>\n",
       "    </tr>\n",
       "  </tbody>\n",
       "</table>\n",
       "</div>"
      ],
      "text/plain": [
       "      book_id                                              title  \\\n",
       "0  0195153448                                Classical Mythology   \n",
       "1  0002005018                                       Clara Callan   \n",
       "2  0060973129                               Decision in Normandy   \n",
       "3  0374157065  Flu: The Story of the Great Influenza Pandemic...   \n",
       "4  0393045218                             The Mummies of Urumchi   \n",
       "\n",
       "                 author  year                   publisher  \n",
       "0    Mark P. O. Morford  2002     Oxford University Press  \n",
       "1  Richard Bruce Wright  2001       HarperFlamingo Canada  \n",
       "2          Carlo D'Este  1991             HarperPerennial  \n",
       "3      Gina Bari Kolata  1999        Farrar Straus Giroux  \n",
       "4       E. J. W. Barber  1999  W. W. Norton &amp; Company  "
      ]
     },
     "execution_count": 2,
     "metadata": {},
     "output_type": "execute_result"
    }
   ],
   "source": [
    "books = pd.read_csv('book-crossing/BX-Books.csv', skiprows=1, sep=';',\n",
    "                    names=['book_id', 'title', 'author', 'year', 'publisher', 'url1', 'url2', 'url3'])\n",
    "books.drop(['url1', 'url2', 'url3'], axis=1, inplace=True)\n",
    "print books.shape\n",
    "books.head()"
   ]
  },
  {
   "cell_type": "code",
   "execution_count": 3,
   "metadata": {},
   "outputs": [
    {
     "name": "stdout",
     "output_type": "stream",
     "text": [
      "(278858, 3)\n"
     ]
    },
    {
     "data": {
      "text/html": [
       "<div>\n",
       "<table border=\"1\" class=\"dataframe\">\n",
       "  <thead>\n",
       "    <tr style=\"text-align: right;\">\n",
       "      <th></th>\n",
       "      <th>user_id</th>\n",
       "      <th>location</th>\n",
       "      <th>age</th>\n",
       "    </tr>\n",
       "  </thead>\n",
       "  <tbody>\n",
       "    <tr>\n",
       "      <th>0</th>\n",
       "      <td>1</td>\n",
       "      <td>nyc, new york, usa</td>\n",
       "      <td>NaN</td>\n",
       "    </tr>\n",
       "    <tr>\n",
       "      <th>1</th>\n",
       "      <td>2</td>\n",
       "      <td>stockton, california, usa</td>\n",
       "      <td>18</td>\n",
       "    </tr>\n",
       "    <tr>\n",
       "      <th>2</th>\n",
       "      <td>3</td>\n",
       "      <td>moscow, yukon territory, russia</td>\n",
       "      <td>NaN</td>\n",
       "    </tr>\n",
       "    <tr>\n",
       "      <th>3</th>\n",
       "      <td>4</td>\n",
       "      <td>porto, v.n.gaia, portugal</td>\n",
       "      <td>17</td>\n",
       "    </tr>\n",
       "    <tr>\n",
       "      <th>4</th>\n",
       "      <td>5</td>\n",
       "      <td>farnborough, hants, united kingdom</td>\n",
       "      <td>NaN</td>\n",
       "    </tr>\n",
       "  </tbody>\n",
       "</table>\n",
       "</div>"
      ],
      "text/plain": [
       "   user_id                            location  age\n",
       "0        1                  nyc, new york, usa  NaN\n",
       "1        2           stockton, california, usa   18\n",
       "2        3     moscow, yukon territory, russia  NaN\n",
       "3        4           porto, v.n.gaia, portugal   17\n",
       "4        5  farnborough, hants, united kingdom  NaN"
      ]
     },
     "execution_count": 3,
     "metadata": {},
     "output_type": "execute_result"
    }
   ],
   "source": [
    "users = pd.read_csv('book-crossing/BX-Users.csv', skiprows=1, sep=';', names=['user_id', 'location', 'age'])\n",
    "print users.shape\n",
    "users.head()"
   ]
  },
  {
   "cell_type": "code",
   "execution_count": 4,
   "metadata": {},
   "outputs": [
    {
     "name": "stdout",
     "output_type": "stream",
     "text": [
      "user_id     int64\n",
      "book_id    object\n",
      "rating      int32\n",
      "dtype: object\n",
      "(1149780, 3)\n"
     ]
    },
    {
     "data": {
      "text/html": [
       "<div>\n",
       "<table border=\"1\" class=\"dataframe\">\n",
       "  <thead>\n",
       "    <tr style=\"text-align: right;\">\n",
       "      <th></th>\n",
       "      <th>user_id</th>\n",
       "      <th>book_id</th>\n",
       "      <th>rating</th>\n",
       "    </tr>\n",
       "  </thead>\n",
       "  <tbody>\n",
       "    <tr>\n",
       "      <th>0</th>\n",
       "      <td>276725</td>\n",
       "      <td>034545104X</td>\n",
       "      <td>0</td>\n",
       "    </tr>\n",
       "    <tr>\n",
       "      <th>1</th>\n",
       "      <td>276726</td>\n",
       "      <td>0155061224</td>\n",
       "      <td>5</td>\n",
       "    </tr>\n",
       "    <tr>\n",
       "      <th>2</th>\n",
       "      <td>276727</td>\n",
       "      <td>0446520802</td>\n",
       "      <td>0</td>\n",
       "    </tr>\n",
       "    <tr>\n",
       "      <th>3</th>\n",
       "      <td>276729</td>\n",
       "      <td>052165615X</td>\n",
       "      <td>3</td>\n",
       "    </tr>\n",
       "    <tr>\n",
       "      <th>4</th>\n",
       "      <td>276729</td>\n",
       "      <td>0521795028</td>\n",
       "      <td>6</td>\n",
       "    </tr>\n",
       "  </tbody>\n",
       "</table>\n",
       "</div>"
      ],
      "text/plain": [
       "   user_id     book_id  rating\n",
       "0   276725  034545104X       0\n",
       "1   276726  0155061224       5\n",
       "2   276727  0446520802       0\n",
       "3   276729  052165615X       3\n",
       "4   276729  0521795028       6"
      ]
     },
     "execution_count": 4,
     "metadata": {},
     "output_type": "execute_result"
    }
   ],
   "source": [
    "ratings = pd.read_csv('book-crossing/BX-Book-Ratings.csv', skiprows=1, sep=';', names=['user_id', 'book_id', 'rating'])\n",
    "ratings.rating = ratings.rating.astype(int)\n",
    "print ratings.dtypes\n",
    "print ratings.shape\n",
    "ratings.head()"
   ]
  },
  {
   "cell_type": "code",
   "execution_count": 5,
   "metadata": {},
   "outputs": [
    {
     "data": {
      "text/plain": [
       "0.003206771109452608"
      ]
     },
     "execution_count": 5,
     "metadata": {},
     "output_type": "execute_result"
    }
   ],
   "source": [
    "# We can calculate the fill rate of rating matrix\n",
    "fill_rate = (1.0 * ratings.shape[0] / len(ratings.user_id.drop_duplicates()) / len(ratings.book_id.drop_duplicates())) * 100\n",
    "fill_rate"
   ]
  },
  {
   "cell_type": "markdown",
   "metadata": {},
   "source": [
    "We can see, rating matrix is a very sparse matrix, only 0.003% of fields are filled. "
   ]
  },
  {
   "cell_type": "markdown",
   "metadata": {},
   "source": [
    "### 2. Tables merging and Data analysis"
   ]
  },
  {
   "cell_type": "code",
   "execution_count": 6,
   "metadata": {},
   "outputs": [
    {
     "name": "stdout",
     "output_type": "stream",
     "text": [
      "(1031175, 9)\n"
     ]
    },
    {
     "data": {
      "text/html": [
       "<div>\n",
       "<table border=\"1\" class=\"dataframe\">\n",
       "  <thead>\n",
       "    <tr style=\"text-align: right;\">\n",
       "      <th></th>\n",
       "      <th>user_id</th>\n",
       "      <th>book_id</th>\n",
       "      <th>rating</th>\n",
       "      <th>title</th>\n",
       "      <th>author</th>\n",
       "      <th>year</th>\n",
       "      <th>publisher</th>\n",
       "      <th>location</th>\n",
       "      <th>age</th>\n",
       "    </tr>\n",
       "  </thead>\n",
       "  <tbody>\n",
       "    <tr>\n",
       "      <th>0</th>\n",
       "      <td>276725</td>\n",
       "      <td>034545104X</td>\n",
       "      <td>0</td>\n",
       "      <td>Flesh Tones: A Novel</td>\n",
       "      <td>M. J. Rose</td>\n",
       "      <td>2002</td>\n",
       "      <td>Ballantine Books</td>\n",
       "      <td>tyler, texas, usa</td>\n",
       "      <td>NaN</td>\n",
       "    </tr>\n",
       "    <tr>\n",
       "      <th>1</th>\n",
       "      <td>2313</td>\n",
       "      <td>034545104X</td>\n",
       "      <td>5</td>\n",
       "      <td>Flesh Tones: A Novel</td>\n",
       "      <td>M. J. Rose</td>\n",
       "      <td>2002</td>\n",
       "      <td>Ballantine Books</td>\n",
       "      <td>cincinnati, ohio, usa</td>\n",
       "      <td>23</td>\n",
       "    </tr>\n",
       "    <tr>\n",
       "      <th>2</th>\n",
       "      <td>2313</td>\n",
       "      <td>0812533550</td>\n",
       "      <td>9</td>\n",
       "      <td>Ender's Game (Ender Wiggins Saga (Paperback))</td>\n",
       "      <td>Orson Scott Card</td>\n",
       "      <td>1986</td>\n",
       "      <td>Tor Books</td>\n",
       "      <td>cincinnati, ohio, usa</td>\n",
       "      <td>23</td>\n",
       "    </tr>\n",
       "    <tr>\n",
       "      <th>3</th>\n",
       "      <td>2313</td>\n",
       "      <td>0679745580</td>\n",
       "      <td>8</td>\n",
       "      <td>In Cold Blood (Vintage International)</td>\n",
       "      <td>TRUMAN CAPOTE</td>\n",
       "      <td>1994</td>\n",
       "      <td>Vintage</td>\n",
       "      <td>cincinnati, ohio, usa</td>\n",
       "      <td>23</td>\n",
       "    </tr>\n",
       "    <tr>\n",
       "      <th>4</th>\n",
       "      <td>2313</td>\n",
       "      <td>0060173289</td>\n",
       "      <td>9</td>\n",
       "      <td>Divine Secrets of the Ya-Ya Sisterhood : A Novel</td>\n",
       "      <td>Rebecca Wells</td>\n",
       "      <td>1996</td>\n",
       "      <td>HarperCollins</td>\n",
       "      <td>cincinnati, ohio, usa</td>\n",
       "      <td>23</td>\n",
       "    </tr>\n",
       "  </tbody>\n",
       "</table>\n",
       "</div>"
      ],
      "text/plain": [
       "   user_id     book_id  rating  \\\n",
       "0   276725  034545104X       0   \n",
       "1     2313  034545104X       5   \n",
       "2     2313  0812533550       9   \n",
       "3     2313  0679745580       8   \n",
       "4     2313  0060173289       9   \n",
       "\n",
       "                                              title            author  year  \\\n",
       "0                              Flesh Tones: A Novel        M. J. Rose  2002   \n",
       "1                              Flesh Tones: A Novel        M. J. Rose  2002   \n",
       "2     Ender's Game (Ender Wiggins Saga (Paperback))  Orson Scott Card  1986   \n",
       "3             In Cold Blood (Vintage International)     TRUMAN CAPOTE  1994   \n",
       "4  Divine Secrets of the Ya-Ya Sisterhood : A Novel     Rebecca Wells  1996   \n",
       "\n",
       "          publisher               location  age  \n",
       "0  Ballantine Books      tyler, texas, usa  NaN  \n",
       "1  Ballantine Books  cincinnati, ohio, usa   23  \n",
       "2         Tor Books  cincinnati, ohio, usa   23  \n",
       "3           Vintage  cincinnati, ohio, usa   23  \n",
       "4     HarperCollins  cincinnati, ohio, usa   23  "
      ]
     },
     "execution_count": 6,
     "metadata": {},
     "output_type": "execute_result"
    }
   ],
   "source": [
    "book_crossing = pd.merge(pd.merge(ratings, books), users)\n",
    "print book_crossing.shape\n",
    "book_crossing.head()"
   ]
  },
  {
   "cell_type": "markdown",
   "metadata": {},
   "source": [
    "<u><h1>STOP</h1></u>\n",
    "---"
   ]
  },
  {
   "cell_type": "code",
   "execution_count": 7,
   "metadata": {},
   "outputs": [
    {
     "data": {
      "image/png": "[encoded data removed]",
      "text/plain": [
       "<matplotlib.figure.Figure at 0x1a56ab90>"
      ]
     },
     "metadata": {},
     "output_type": "display_data"
    }
   ],
   "source": [
    "# Display the most common ratings\n",
    "plt.hist(book_crossing.rating, bins=10, color='blue', alpha=0.8)\n",
    "plt.xlabel(\"Stars\")\n",
    "plt.show()"
   ]
  },
  {
   "cell_type": "markdown",
   "metadata": {},
   "source": [
    "What we see:\n",
    "\n",
    "* there are too many not rated books (with 0 rating), i.e. zero rating tell us that a user read book (or only look at it), but did not rate it. This information does not contain any good for us\n",
    "\n",
    "* people like a big part of books and evaluate them from 5 to 10 stars\n",
    "\n",
    "* there a large percent of books rated with 10"
   ]
  },
  {
   "cell_type": "code",
   "execution_count": 8,
   "metadata": {},
   "outputs": [
    {
     "name": "stdout",
     "output_type": "stream",
     "text": [
      "ratings shape before removing: (1149780, 3)\n",
      "ratings shape after removing: (433671, 3)\n",
      "persent of zero ratings: 62.2822626937\n",
      "0.00299711203416\n",
      "(383852, 9)\n"
     ]
    },
    {
     "data": {
      "image/png": "[encoded data removed]",
      "text/plain": [
       "<matplotlib.figure.Figure at 0x14c79970>"
      ]
     },
     "metadata": {},
     "output_type": "display_data"
    }
   ],
   "source": [
    "# Above analysis allows removing not rated books\n",
    "x = ratings.shape\n",
    "print \"ratings shape before removing:\", x\n",
    "ratings = ratings[ratings.rating != 0]\n",
    "print \"ratings shape after removing:\", ratings.shape\n",
    "\n",
    "print \"persent of zero ratings:\", (1 - 1.0 * ratings.shape[0] / x[0]) * 100\n",
    "\n",
    "fill_rate = (1.0 * ratings.shape[0] / len(ratings.user_id.drop_duplicates()) / len(ratings.book_id.drop_duplicates())) * 100\n",
    "print fill_rate\n",
    "\n",
    "book_crossing = pd.merge(pd.merge(ratings, books), users)\n",
    "print book_crossing.shape\n",
    "\n",
    "# Display the most common ratings\n",
    "plt.hist(book_crossing.rating, bins=9, color='blue', alpha=0.8)\n",
    "plt.xlabel(\"Stars\")\n",
    "plt.show()"
   ]
  },
  {
   "cell_type": "markdown",
   "metadata": {},
   "source": [
    "What we see:\n",
    "\n",
    "* after removing of nearby 62% of book/user pair with zero rating the fill_rate parameter was almost not changed\n",
    "\n",
    "* we can work with a smaller dataset"
   ]
  },
  {
   "cell_type": "code",
   "execution_count": 9,
   "metadata": {},
   "outputs": [
    {
     "data": {
      "text/plain": [
       "author\n",
       "Stephen King                 4639\n",
       "Nora Roberts                 2938\n",
       "John Grisham                 2550\n",
       "James Patterson              2387\n",
       "J. K. Rowling                1746\n",
       "Mary Higgins Clark           1677\n",
       "Janet Evanovich              1490\n",
       "Dean R. Koontz               1475\n",
       "Anne Rice                    1245\n",
       "Sue Grafton                  1235\n",
       "Tom Clancy                   1223\n",
       "Michael Crichton             1147\n",
       "Nicholas Sparks              1131\n",
       "JOHN GRISHAM                 1120\n",
       "Dan Brown                    1104\n",
       "Danielle Steel               1076\n",
       "Anita Shreve                 1027\n",
       "Barbara Kingsolver           1008\n",
       "Patricia Daniels Cornwell     943\n",
       "Alice Sebold                  928\n",
       "Name: rating, dtype: int64"
      ]
     },
     "execution_count": 9,
     "metadata": {},
     "output_type": "execute_result"
    }
   ],
   "source": [
    "# Let's show top 20 authors by readers amount\n",
    "top_authors = book_crossing.groupby('author')['rating'].count()\n",
    "top_authors.sort(inplace=True, ascending=False)\n",
    "top_authors[:20]"
   ]
  },
  {
   "cell_type": "code",
   "execution_count": 10,
   "metadata": {},
   "outputs": [
    {
     "data": {
      "text/plain": [
       "author\n",
       "Maud Hart Lovelace          9.288462\n",
       "Art Spiegelman              9.240000\n",
       "Bill Watterson              9.186186\n",
       "Dr. Seuss                   9.178744\n",
       "Shel Silverstein            9.158730\n",
       "Antoine de Saint-Exupéry    9.029240\n",
       "Bradley Trevor Greive       8.988095\n",
       "Harper Lee                  8.985765\n",
       "J. K. Rowling               8.970218\n",
       "Clamp                       8.963303\n",
       "J.R.R. TOLKIEN              8.897590\n",
       "L.M. MONTGOMERY             8.889908\n",
       "L.M. Montgomery             8.852632\n",
       "E. B. White                 8.846154\n",
       "WILLIAM GOLDMAN             8.818182\n",
       "Nick Bantock                8.766871\n",
       "MADELEINE L'ENGLE           8.762887\n",
       "Betty Smith                 8.759259\n",
       "Anne Frank                  8.752475\n",
       "Lucy Maud Montgomery        8.745763\n",
       "Name: rating, dtype: float64"
      ]
     },
     "execution_count": 10,
     "metadata": {},
     "output_type": "execute_result"
    }
   ],
   "source": [
    "# Let's show top 20 authors by average rating\n",
    "# We will consider here only those authors who has at least 50 readers\n",
    "top_authors = book_crossing[book_crossing['author'].isin(top_authors[top_authors >= 50].index.values)].groupby('author')['rating'].mean()\n",
    "top_authors.sort(inplace=True, ascending=False)\n",
    "top_authors[:20]"
   ]
  },
  {
   "cell_type": "code",
   "execution_count": 11,
   "metadata": {},
   "outputs": [
    {
     "name": "stdout",
     "output_type": "stream",
     "text": [
      "user_id\n",
      "11676     6943\n",
      "98391     5691\n",
      "189835    1899\n",
      "153662    1845\n",
      "23902     1180\n",
      "235105    1020\n",
      "76499     1012\n",
      "171118     962\n",
      "16795      959\n",
      "248718     941\n",
      "56399      838\n",
      "197659     781\n",
      "35859      777\n",
      "185233     698\n",
      "95359      606\n",
      "114368     603\n",
      "158295     567\n",
      "101851     563\n",
      "177458     524\n",
      "204864     504\n",
      "Name: book_id, dtype: int64\n"
     ]
    },
    {
     "data": {
      "image/png": "[encoded data removed]",
      "text/plain": [
       "<matplotlib.figure.Figure at 0x119bb630>"
      ]
     },
     "metadata": {},
     "output_type": "display_data"
    }
   ],
   "source": [
    "# Let's show top 20 users (i.e. who has rated the largest amount of books)\n",
    "top_users = book_crossing.groupby('user_id')['book_id'].count()\n",
    "top_users.sort(inplace=True, ascending=False)\n",
    "print top_users[:20]\n",
    "\n",
    "top_users[top_users>50].plot(kind='hist')\n",
    "plt.xlabel(\"user_id\")\n",
    "plt.show()"
   ]
  },
  {
   "cell_type": "markdown",
   "metadata": {},
   "source": [
    "As we can see there are over 1000 user who read over 50 books. We will consider them further."
   ]
  },
  {
   "cell_type": "markdown",
   "metadata": {},
   "source": [
    "### 3. Matrix factorization"
   ]
  },
  {
   "cell_type": "code",
   "execution_count": 12,
   "metadata": {},
   "outputs": [
    {
     "name": "stdout",
     "output_type": "stream",
     "text": [
      "Factorization matrix size: 77805 x 185973\n"
     ]
    }
   ],
   "source": [
    "# Rating matrix is too large. We cannot work with it\n",
    "print \"Factorization matrix size: {} x {}\".format(len(ratings.user_id.drop_duplicates()), len(ratings.book_id.drop_duplicates()))"
   ]
  },
  {
   "cell_type": "code",
   "execution_count": 13,
   "metadata": {},
   "outputs": [
    {
     "name": "stdout",
     "output_type": "stream",
     "text": [
      "ratings shape before removing: (433671, 3)\n",
      "ratings shape after removing: (397129, 3)\n",
      "Factorization matrix size: 73763 x 170085\n"
     ]
    }
   ],
   "source": [
    "# To decrease rating matrix size let's drop all books that has not numeric ID, eg. 034545104X\n",
    "print \"ratings shape before removing:\", ratings.shape\n",
    "ratings = ratings[ratings['book_id'].str.isnumeric()].reset_index().drop('index', axis=1)\n",
    "print \"ratings shape after removing:\", ratings.shape\n",
    "\n",
    "print \"Factorization matrix size: {} x {}\".format(len(ratings.user_id.drop_duplicates()), len(ratings.book_id.drop_duplicates()))"
   ]
  },
  {
   "cell_type": "code",
   "execution_count": 14,
   "metadata": {},
   "outputs": [
    {
     "name": "stdout",
     "output_type": "stream",
     "text": [
      "ratings shape: (149936, 3)\n",
      "Factorization matrix size: 1150 x 88250\n"
     ]
    },
    {
     "data": {
      "text/html": [
       "<div>\n",
       "<table border=\"1\" class=\"dataframe\">\n",
       "  <thead>\n",
       "    <tr style=\"text-align: right;\">\n",
       "      <th></th>\n",
       "      <th>user_id</th>\n",
       "      <th>book_id</th>\n",
       "      <th>rating</th>\n",
       "    </tr>\n",
       "  </thead>\n",
       "  <tbody>\n",
       "    <tr>\n",
       "      <th>0</th>\n",
       "      <td>277427</td>\n",
       "      <td>0060006641</td>\n",
       "      <td>10</td>\n",
       "    </tr>\n",
       "    <tr>\n",
       "      <th>1</th>\n",
       "      <td>277427</td>\n",
       "      <td>0060542128</td>\n",
       "      <td>7</td>\n",
       "    </tr>\n",
       "    <tr>\n",
       "      <th>2</th>\n",
       "      <td>277427</td>\n",
       "      <td>0061009059</td>\n",
       "      <td>9</td>\n",
       "    </tr>\n",
       "    <tr>\n",
       "      <th>3</th>\n",
       "      <td>277427</td>\n",
       "      <td>0062507109</td>\n",
       "      <td>8</td>\n",
       "    </tr>\n",
       "    <tr>\n",
       "      <th>4</th>\n",
       "      <td>277427</td>\n",
       "      <td>0132220598</td>\n",
       "      <td>8</td>\n",
       "    </tr>\n",
       "  </tbody>\n",
       "</table>\n",
       "</div>"
      ],
      "text/plain": [
       "   user_id     book_id  rating\n",
       "0   277427  0060006641      10\n",
       "1   277427  0060542128       7\n",
       "2   277427  0061009059       9\n",
       "3   277427  0062507109       8\n",
       "4   277427  0132220598       8"
      ]
     },
     "execution_count": 14,
     "metadata": {},
     "output_type": "execute_result"
    }
   ],
   "source": [
    "# Dataset is still too large.\n",
    "# Let's take its sample by selection of those users who waa rated at least 50 books\n",
    "ratings = ratings[ratings['user_id'].isin(top_users[top_users > 50].index.values)].reset_index().drop('index', axis=1)\n",
    "print \"ratings shape:\", ratings.shape\n",
    "print \"Factorization matrix size: {} x {}\".format(len(ratings.user_id.drop_duplicates()), len(ratings.book_id.drop_duplicates()))\n",
    "ratings.head()"
   ]
  },
  {
   "cell_type": "code",
   "execution_count": 15,
   "metadata": {},
   "outputs": [
    {
     "name": "stdout",
     "output_type": "stream",
     "text": [
      "ratings shape: (7497, 3)\n",
      "Factorization matrix size: 1127 x 6725\n"
     ]
    }
   ],
   "source": [
    "# Even now we have too large dataset\n",
    "# Let's take a random sample of the last dataset\n",
    "ratings = ratings.sample(frac=0.05, replace=True, random_state=42).reset_index().drop('index', axis=1)\n",
    "print \"ratings shape:\", ratings.shape\n",
    "print \"Factorization matrix size: {} x {}\".format(len(ratings.user_id.drop_duplicates()), len(ratings.book_id.drop_duplicates()))"
   ]
  },
  {
   "cell_type": "code",
   "execution_count": 16,
   "metadata": {},
   "outputs": [
    {
     "data": {
      "text/html": [
       "<div>\n",
       "<table border=\"1\" class=\"dataframe\">\n",
       "  <thead>\n",
       "    <tr style=\"text-align: right;\">\n",
       "      <th></th>\n",
       "      <th>user_id</th>\n",
       "      <th>book_id</th>\n",
       "      <th>rating</th>\n",
       "      <th>uid</th>\n",
       "      <th>bid</th>\n",
       "    </tr>\n",
       "  </thead>\n",
       "  <tbody>\n",
       "    <tr>\n",
       "      <th>0</th>\n",
       "      <td>222050</td>\n",
       "      <td>0312043546</td>\n",
       "      <td>9</td>\n",
       "      <td>0</td>\n",
       "      <td>0</td>\n",
       "    </tr>\n",
       "    <tr>\n",
       "      <th>1</th>\n",
       "      <td>268300</td>\n",
       "      <td>0345303067</td>\n",
       "      <td>8</td>\n",
       "      <td>1</td>\n",
       "      <td>1</td>\n",
       "    </tr>\n",
       "    <tr>\n",
       "      <th>2</th>\n",
       "      <td>238699</td>\n",
       "      <td>0373834985</td>\n",
       "      <td>8</td>\n",
       "      <td>2</td>\n",
       "      <td>2</td>\n",
       "    </tr>\n",
       "    <tr>\n",
       "      <th>3</th>\n",
       "      <td>181176</td>\n",
       "      <td>0937552445</td>\n",
       "      <td>6</td>\n",
       "      <td>3</td>\n",
       "      <td>3</td>\n",
       "    </tr>\n",
       "    <tr>\n",
       "      <th>4</th>\n",
       "      <td>216683</td>\n",
       "      <td>0373029306</td>\n",
       "      <td>7</td>\n",
       "      <td>4</td>\n",
       "      <td>4</td>\n",
       "    </tr>\n",
       "  </tbody>\n",
       "</table>\n",
       "</div>"
      ],
      "text/plain": [
       "   user_id     book_id  rating  uid  bid\n",
       "0   222050  0312043546       9    0    0\n",
       "1   268300  0345303067       8    1    1\n",
       "2   238699  0373834985       8    2    2\n",
       "3   181176  0937552445       6    3    3\n",
       "4   216683  0373029306       7    4    4"
      ]
     },
     "execution_count": 16,
     "metadata": {},
     "output_type": "execute_result"
    }
   ],
   "source": [
    "# Add order identifiers to users and books\n",
    "unique_users = list(ratings.user_id.drop_duplicates().values)\n",
    "unique_books = list(ratings.book_id.drop_duplicates().values)\n",
    "\n",
    "ratings['uid'] = 0\n",
    "ratings['bid'] = 0\n",
    "for i in xrange(ratings.shape[0]):\n",
    "    ratings.loc[i, 'uid'] = unique_users.index(ratings.loc[i, 'user_id'])\n",
    "    ratings.loc[i, 'bid'] = unique_books.index(ratings.loc[i, 'book_id'])\n",
    "    \n",
    "ratings.head()"
   ]
  },
  {
   "cell_type": "code",
   "execution_count": 29,
   "metadata": {},
   "outputs": [],
   "source": [
    "# Save connections between uid/bid and corresponding user_id/book_id\n",
    "users_correspondence = {}\n",
    "books_correspondence = {}\n",
    "for i in xrange(ratings.shape[0]):\n",
    "    users_correspondence.update({str(ratings.loc[i, 'user_id']): str(ratings.loc[i, 'uid'])})\n",
    "    books_correspondence.update({str(ratings.loc[i, 'bid']): str(ratings.loc[i, 'book_id'])})\n",
    "    \n",
    "import json \n",
    "\n",
    "with open('users_correspondence.json', 'w') as f:\n",
    "    json.dump(users_correspondence, f)\n",
    "    \n",
    "with open('books_correspondence.json', 'w') as f:\n",
    "    json.dump(books_correspondence, f)"
   ]
  },
  {
   "cell_type": "markdown",
   "metadata": {},
   "source": [
    "# 2. Separate to train and test data "
   ]
  },
  {
   "cell_type": "code",
   "execution_count": 18,
   "metadata": {},
   "outputs": [
    {
     "name": "stdout",
     "output_type": "stream",
     "text": [
      "train: (5247, 2) (5247,)\n",
      "test: (2250, 2) (2250,)\n"
     ]
    }
   ],
   "source": [
    "X = ratings[['uid', 'bid']]\n",
    "y = ratings['rating']\n",
    "\n",
    "# random_state=42 should be only this, because the factorization matrix will build for this random content of train data !!!\n",
    "X_train, X_test, y_train, y_test = train_test_split(X, y, test_size=0.3, random_state=42)\n",
    "print \"train:\", X_train.shape, y_train.shape\n",
    "print \"test:\", X_test.shape, y_test.shape"
   ]
  },
  {
   "cell_type": "markdown",
   "metadata": {},
   "source": [
    "# 3. Ratings matrix (user - item pairs) forming"
   ]
  },
  {
   "cell_type": "code",
   "execution_count": 19,
   "metadata": {},
   "outputs": [
    {
     "name": "stdout",
     "output_type": "stream",
     "text": [
      "1000\n",
      "2000\n",
      "3000\n",
      "4000\n",
      "5000\n",
      "6000\n",
      "7000\n",
      "\n",
      "train_data (1126, 6724) \n",
      "[[ 0.  0.  0. ...,  0.  0.  0.]\n",
      " [ 0.  8.  0. ...,  0.  0.  0.]\n",
      " [ 0.  0.  8. ...,  0.  0.  0.]\n",
      " ..., \n",
      " [ 0.  0.  0. ...,  0.  0.  0.]\n",
      " [ 0.  0.  0. ...,  0.  0.  0.]\n",
      " [ 0.  0.  0. ...,  0.  0.  0.]]\n",
      "\n",
      "test_data (1126, 6724) \n",
      "[[ 9.  0.  0. ...,  0.  0.  0.]\n",
      " [ 0.  0.  0. ...,  0.  0.  0.]\n",
      " [ 0.  0.  0. ...,  0.  0.  0.]\n",
      " ..., \n",
      " [ 0.  0.  0. ...,  0.  0.  0.]\n",
      " [ 0.  0.  0. ...,  0.  0.  0.]\n",
      " [ 0.  0.  0. ...,  0.  0.  0.]]\n"
     ]
    }
   ],
   "source": [
    "u = np.max(ratings.uid)\n",
    "m = np.max(ratings.bid)\n",
    "# Fill train and test rating matrices with zeros\n",
    "train_data = np.zeros([u, m])\n",
    "test_data  = np.zeros([u, m])\n",
    "# Replace the empty values with current ratings\n",
    "for i in xrange(len(ratings)):\n",
    "    # Let's see how many row is already processed\n",
    "    if i % 10**3 == 0 and i != 0:\n",
    "        print i\n",
    "    # Form train_data rating matrix\n",
    "    try:\n",
    "        # The indexing of user_id and movie_id starts from 1 in the dataset \n",
    "        train_data[X_train.loc[i, 'uid'], X_train.loc[i, 'bid']] = y_train.loc[i]\n",
    "    except:\n",
    "        pass\n",
    "    \n",
    "    # Form test_data rating matrix\n",
    "    try:\n",
    "        # The indexing of user_id and movie_id starts from 1 in the dataset \n",
    "        test_data[X_test.loc[i, 'uid'], X_test.loc[i, 'bid']] = y_test.loc[i]\n",
    "    except:\n",
    "        pass\n",
    "\n",
    "print\n",
    "print \"train_data\", train_data.shape, \"\\n\", train_data[:10]\n",
    "print \n",
    "print \"test_data\", test_data.shape, \"\\n\", test_data[:10]"
   ]
  },
  {
   "cell_type": "markdown",
   "metadata": {},
   "source": [
    "## 4. Factorization matrix algorithm"
   ]
  },
  {
   "cell_type": "code",
   "execution_count": 20,
   "metadata": {
    "collapsed": true
   },
   "outputs": [],
   "source": [
    "# Algorithm for factorization of a matrix (including regularization to avoid overfitting)\n",
    "# Algorithm is available here http://cyber.sci-hub.io/MTAuMTEwOS9yaXZmLjIwMTIuNjE2OTgzMQ==/nguyen2012.pdf\n",
    "from numba import jit   # We use this module to compile Python code to the byte code \n",
    "from time import time\n",
    "\n",
    "@jit\n",
    "def RNMF(R, K, steps=10000, alpha=0.001, beta=0.002):\n",
    "    \"\"\"\n",
    "    :params:\n",
    "        R     : a matrix that should be factorized, dimension n x m\n",
    "        K     : the number of latent features\n",
    "        steps : the maximum number of steps to perform the optimisation\n",
    "        alpha : the learning rate\n",
    "        beta  : the regularization parameter\n",
    "    Returns:\n",
    "        the final matrices P and Q\n",
    "    \"\"\"\n",
    "    start = time()   # Let's measure the elapsed time\n",
    "    n, m = R.shape   # Define dimentions of the matrix R\n",
    "    # Create some random matrices nxk and mxk\n",
    "    P = np.random.rand(n, K)\n",
    "    Q = np.random.rand(m, K)\n",
    "    Q = Q.T   # Transpose matrix Q \n",
    "    s = len(np.where(R > 0)[0])\n",
    "    for step in xrange(steps):\n",
    "        if step % 100 == 0 and step != 0:\n",
    "            dur = time() - start\n",
    "            print \"Iteration #{}. Elapsed time: {} min {} sec.\".format(step, int(dur//60), int(round(dur%60)))\n",
    "        for i in xrange(n):       # for each user ...\n",
    "            for j in xrange(m):   # for each movie ...\n",
    "                if R[i][j] > 0:\n",
    "                    eij = R[i][j] - np.dot(P[i,:],Q[:,j])\n",
    "                    for k in xrange(K):\n",
    "                        P[i][k] += alpha * (eij * Q[k][j] - beta * P[i][k])\n",
    "                        Q[k][j] += alpha * (eij * P[i][k] - beta * Q[k][j])\n",
    "        e = 0\n",
    "        for i in xrange(n):\n",
    "            for j in xrange(m):\n",
    "                if R[i][j] > 0:\n",
    "                    e += pow(R[i][j] - np.dot(P[i,:],Q[:,j]), 2)\n",
    "        if np.sqrt(e/s) < 0.01:\n",
    "            break\n",
    "    return P, Q\n",
    "\n",
    "def getFM(P, Q, left_bound, right_bound, err=0.499):\n",
    "    \"\"\"\n",
    "    :params:\n",
    "        P, Q         : latent features matrices\n",
    "        left_bound   : the minimal possible value of the rating\n",
    "        right_bound  : the maximal possible value of the rating\n",
    "        err          : available declination from `left_bound` and `right_bound`\n",
    "    Returns:\n",
    "        the factorized matrix FM\n",
    "    \"\"\"\n",
    "    FM = np.dot(fP, fQ)\n",
    "    n, m = FM.shape \n",
    "    for i in xrange(n):\n",
    "        for j in xrange(m):\n",
    "            if left_bound-err > FM[i][j]:\n",
    "                FM[i][j] = left_bound - err\n",
    "            elif right_bound+err-err < FM[i][j]:\n",
    "                FM[i][j] = right_bound + err\n",
    "    return FM"
   ]
  },
  {
   "cell_type": "code",
   "execution_count": 21,
   "metadata": {
    "scrolled": true
   },
   "outputs": [
    {
     "name": "stdout",
     "output_type": "stream",
     "text": [
      "Iteration #100. Elapsed time: 20 min 37 sec.\n",
      "\n",
      "Iteration #200. Elapsed time: 41 min 58 sec.\n",
      "\n",
      "Iteration #300. Elapsed time: 62 min 28 sec.\n",
      "\n",
      "Iteration #400. Elapsed time: 82 min 44 sec.\n",
      "\n",
      "Iteration #500. Elapsed time: 103 min 10 sec.\n",
      "\n",
      "Iteration #600. Elapsed time: 123 min 9 sec.\n",
      "\n",
      "Iteration #700. Elapsed time: 144 min 37 sec.\n",
      "\n"
     ]
    },
    {
     "name": "stderr",
     "output_type": "stream",
     "text": [
      "C:\\Anaconda\\lib\\site-packages\\numba\\dataflow.py:284: RuntimeWarning: Python2 style print partially supported.  Please use Python3 style print.\n",
      "  \"Python3 style print.\", RuntimeWarning)\n"
     ]
    }
   ],
   "source": [
    "fP, fQ = RNMF(train_data, 20, alpha=0.001, beta=0.001)\n",
    "FM = getFM(fP, fQ, 1, 10, 0)\n",
    "\n",
    "# Save FM to txt file\n",
    "np.savetxt('FM_BookCrossing.txt', FM)"
   ]
  },
  {
   "cell_type": "code",
   "execution_count": 20,
   "metadata": {
    "collapsed": true
   },
   "outputs": [],
   "source": [
    "# Count MSE (mean square error) and MAE (mean absolute error)\n",
    "def mse(train, pred):\n",
    "    # Find indeces of nonzero elements of R matrix\n",
    "    ind = tuple(zip(*np.argwhere(train > 0)))\n",
    "    return np.sqrt(np.sum((train[ind[0], ind[1]] - pred[ind]) ** 2) / len(ind[0]))\n",
    "\n",
    "def mae(train, pred):\n",
    "    # Find indeces of nonzero elements of R matrix\n",
    "    ind = tuple(zip(*np.argwhere(train > 0)))\n",
    "    return np.sum(np.abs(train[ind] - pred[ind])) / len(ind[0])"
   ]
  },
  {
   "cell_type": "code",
   "execution_count": 21,
   "metadata": {
    "collapsed": true
   },
   "outputs": [],
   "source": [
    "FM = np.genfromtxt('FM_BookCrossing.txt', delimiter=\" \")"
   ]
  },
  {
   "cell_type": "code",
   "execution_count": 22,
   "metadata": {
    "scrolled": true
   },
   "outputs": [
    {
     "name": "stdout",
     "output_type": "stream",
     "text": [
      "Train matrix:\n",
      "[[ 0.  0.  0.  0.  0.  0.  0.  0.  0.  0.]\n",
      " [ 0.  8.  0.  0.  0.  0.  0.  0.  0.  0.]\n",
      " [ 0.  0.  8.  0.  0.  0.  0.  0.  0.  0.]\n",
      " [ 0.  0.  0.  6.  0.  0.  0.  0.  0.  0.]\n",
      " [ 0.  0.  0.  0.  7.  0.  0.  0.  0.  0.]\n",
      " [ 0.  0.  0.  0.  0.  8.  0.  0.  0.  0.]\n",
      " [ 0.  0.  0.  0.  0.  0.  7.  0.  0.  0.]\n",
      " [ 0.  0.  0.  0.  0.  0.  0.  5.  0.  0.]\n",
      " [ 0.  0.  0.  0.  0.  0.  0.  0.  0.  0.]\n",
      " [ 0.  0.  0.  0.  0.  0.  0.  0.  0.  8.]]\n",
      "\n",
      "Factorized matrix:\n",
      "[[  6.333   8.171   7.885   6.415   7.156   7.794  10.      5.728   8.44\n",
      "    7.317]\n",
      " [  7.093   8.005   8.508   5.571   7.873   7.607  10.      5.85    9.702\n",
      "    7.33 ]\n",
      " [  6.817   8.8     8.012   6.552   6.877   7.484  10.      5.76    9.527\n",
      "    7.565]\n",
      " [  6.096   7.625   6.829   5.999   7.197   7.627   8.478   5.281   7.775\n",
      "    6.632]\n",
      " [  5.855   6.942   6.079   5.545   6.999   7.179   9.1     4.902   7.321\n",
      "    5.61 ]\n",
      " [  5.807   8.156   7.128   6.099   7.221   7.998   9.533   5.613   8.839\n",
      "    7.386]\n",
      " [  3.853   5.51    5.943   4.321   4.476   5.058   6.999   4.089   6.142\n",
      "    4.935]\n",
      " [  6.854   7.254   8.106   5.454   7.497   6.19    9.74    4.999   9.438\n",
      "    7.405]\n",
      " [  5.839   6.929   6.492   5.429   6.823   6.936   8.722   5.579   7.331\n",
      "    6.063]\n",
      " [  7.796  10.      8.804   6.846   9.23    7.576  10.      7.056  10.\n",
      "    7.998]]\n",
      "\n",
      "Test matrix:\n",
      "[[ 9.  0.  0.  0.  0.  0.  0.  0.  0.  0.]\n",
      " [ 0.  0.  0.  0.  0.  0.  0.  0.  0.  0.]\n",
      " [ 0.  0.  0.  0.  0.  0.  0.  0.  0.  0.]\n",
      " [ 0.  0.  0.  0.  0.  0.  0.  0.  0.  0.]\n",
      " [ 0.  0.  0.  0.  0.  0.  0.  0.  0.  0.]\n",
      " [ 0.  0.  0.  0.  0.  0.  0.  0.  0.  0.]\n",
      " [ 0.  0.  0.  0.  0.  0.  0.  0.  0.  0.]\n",
      " [ 0.  0.  0.  0.  0.  0.  0.  0.  0.  0.]\n",
      " [ 0.  0.  0.  0.  0.  0.  0.  0.  9.  0.]\n",
      " [ 0.  0.  0.  0.  0.  0.  0.  0.  0.  0.]]\n",
      "\n",
      "MSE: 0.00965019224631\n",
      "MAE: 0.0040447457425\n"
     ]
    }
   ],
   "source": [
    "# Set numpy print parameters\n",
    "np.set_printoptions(precision=3)\n",
    "np.set_printoptions(suppress=True)\n",
    "\n",
    "print \"Train matrix:\\n\", train_data[:10, :10]\n",
    "print \"\\nFactorized matrix:\\n\", FM[:10, :10]\n",
    "print \"\\nTest matrix:\\n\", test_data[:10, :10]\n",
    "\n",
    "# Calculate the MSE and MAE based on the train data\n",
    "print \"\\nMSE:\", mse(train_data, FM)\n",
    "print \"MAE:\", mae(train_data, FM)"
   ]
  },
  {
   "cell_type": "markdown",
   "metadata": {},
   "source": [
    "## 5. Comparison of predicted values with test data"
   ]
  },
  {
   "cell_type": "code",
   "execution_count": 23,
   "metadata": {},
   "outputs": [
    {
     "name": "stdout",
     "output_type": "stream",
     "text": [
      "MAE: 1.673\n",
      "MSE: 2.129\n"
     ]
    }
   ],
   "source": [
    "# Calculate the MSE and MAE based on the test data comparing it with predicted values\n",
    "\n",
    "n, m = FM.shape\n",
    "mse = 0\n",
    "mae = 0\n",
    "counter = 0\n",
    "for i in xrange(n):\n",
    "    for j in range(m):\n",
    "        if test_data[i][j] != 0:\n",
    "            mse += pow(FM[i][j] - test_data[i][j], 2)\n",
    "            mae += abs(FM[i][j] - test_data[i][j])\n",
    "            counter += 1\n",
    "\n",
    "mse = np.sqrt(1.0*mse/counter)\n",
    "mae = 1.0*mae/counter\n",
    "\n",
    "print \"MAE:\", round(mae, 3)\n",
    "print \"MSE:\", round(mse, 3)"
   ]
  },
  {
   "cell_type": "markdown",
   "metadata": {},
   "source": [
    "**What we see:**\n",
    "\n",
    "* The error is about 20%. The reasons were explained above."
   ]
  },
  {
   "cell_type": "code",
   "execution_count": 25,
   "metadata": {},
   "outputs": [
    {
     "name": "stdout",
     "output_type": "stream",
     "text": [
      "data_matrix:\n",
      "[[ 9.  0.  0.  0.  0.  0.  0.  0.  0.  0.]\n",
      " [ 0.  8.  0.  0.  0.  0.  0.  0.  0.  0.]\n",
      " [ 0.  0.  8.  0.  0.  0.  0.  0.  0.  0.]\n",
      " [ 0.  0.  0.  6.  0.  0.  0.  0.  0.  0.]\n",
      " [ 0.  0.  0.  0.  7.  0.  0.  0.  0.  0.]\n",
      " [ 0.  0.  0.  0.  0.  8.  0.  0.  0.  0.]\n",
      " [ 0.  0.  0.  0.  0.  0.  7.  0.  0.  0.]\n",
      " [ 0.  0.  0.  0.  0.  0.  0.  5.  0.  0.]\n",
      " [ 0.  0.  0.  0.  0.  0.  0.  0.  9.  0.]\n",
      " [ 0.  0.  0.  0.  0.  0.  0.  0.  0.  8.]]\n"
     ]
    }
   ],
   "source": [
    "# Join `train_data` and `test_data` matrices\n",
    "data_matrix = train_data.copy()\n",
    "n, m = data_matrix.shape\n",
    "for i in xrange(n):\n",
    "    for j in xrange(m):\n",
    "        if data_matrix[i][j] == 0 and test_data[i][j] != 0:\n",
    "            data_matrix[i][j] = test_data[i][j]\n",
    "\n",
    "print \"data_matrix:\\n\", data_matrix[:10, :10]"
   ]
  },
  {
   "cell_type": "code",
   "execution_count": 26,
   "metadata": {
    "collapsed": true
   },
   "outputs": [],
   "source": [
    "np.savetxt('Data_matrix_BookCrossing.txt', data_matrix)"
   ]
  },
  {
   "cell_type": "markdown",
   "metadata": {},
   "source": [
    "<u><h1>START</h1></u>\n",
    "---"
   ]
  },
  {
   "cell_type": "markdown",
   "metadata": {},
   "source": [
    "# 6. Recommendations"
   ]
  },
  {
   "cell_type": "code",
   "execution_count": 30,
   "metadata": {
    "collapsed": true
   },
   "outputs": [],
   "source": [
    "FM = np.genfromtxt('FM_BookCrossing.txt', delimiter=\" \")\n",
    "data_matrix = np.genfromtxt('Data_matrix_BookCrossing.txt', delimiter=\" \")\n",
    "\n",
    "import json\n",
    "with open('users_correspondence.json') as f:    \n",
    "    user_ids = json.load(f)\n",
    "with open('books_correspondence.json') as f:    \n",
    "    book_ids = json.load(f)"
   ]
  },
  {
   "cell_type": "markdown",
   "metadata": {},
   "source": [
    "## 6.1. Recommendations for unread books"
   ]
  },
  {
   "cell_type": "code",
   "execution_count": 92,
   "metadata": {
    "collapsed": true
   },
   "outputs": [],
   "source": [
    "# This function returns the list of `topn` books IDs\n",
    "def get_recommendations(user_id, data_matrix, fact_matrix, topn=10):\n",
    "    # Check whether the `user_id` is present in `data` matrix\n",
    "    n = len(fact_matrix[0])\n",
    "    # Get uid by user_id\n",
    "    try:\n",
    "        uid = int(user_ids[str(user_id)])\n",
    "    except:\n",
    "        print \"The user with ID = {} was not included to the factorization matrix\".format(user_id)\n",
    "        return\n",
    "    \n",
    "    print \"How many book read the user with ID = {}:\".format(user_id), len(np.where(data_matrix[uid] > 0)[0])\n",
    "    # Reset books which user with \"user_id\" has already read\n",
    "    fact_matrix2 = fact_matrix.copy()\n",
    "    for i in xrange(n):\n",
    "        if data_matrix[uid, i] != 0.0:\n",
    "            fact_matrix2[uid, i] = 0.0\n",
    "            \n",
    "    topn_books = np.argsort(fact_matrix2[uid, :])[-topn:][::-1]\n",
    "    return map(lambda x: (x, round(fact_matrix2[uid, x], 3)), topn_books)\n",
    "\n",
    "# This function returns the list of `topn` movies titles\n",
    "def get_books_by_id(b):\n",
    "    b0 = map(lambda x: book_ids[str(x[0])], b)\n",
    "    titles = books[books[\"book_id\"].isin(b0)][[\"book_id\", \"title\"]]\n",
    "    b = filter(lambda x: book_ids[str(x[0])] in titles['book_id'].values, b)\n",
    "    titles = titles['title'].values\n",
    "    rec_books = sorted([{\"book\": titles[i], \"score\": b[i][1]} for i in xrange(len(b))], key=lambda x: x['score'], reverse=True)\n",
    "    return rec_books"
   ]
  },
  {
   "cell_type": "code",
   "execution_count": 95,
   "metadata": {},
   "outputs": [
    {
     "name": "stdout",
     "output_type": "stream",
     "text": [
      "How many book read the user with ID = 197659: 36\n",
      "\n",
      "Recommended books:\n",
      "{'book': 'Something Under the Bed Is Drooling', 'score': 10.0}\n",
      "{'book': 'The Family Tree', 'score': 10.0}\n",
      "{'book': 'September', 'score': 10.0}\n",
      "{'book': 'The Deep Blue Good-By', 'score': 10.0}\n",
      "{'book': 'Neuromancer (Remembering Tomorrow)', 'score': 10.0}\n",
      "{'book': 'Riptide', 'score': 10.0}\n",
      "{'book': 'Walking Shadow', 'score': 10.0}\n",
      "{'book': 'The Cat Who Went to Heaven', 'score': 10.0}\n",
      "{'book': 'Les Miserables a New Unabridged Translation (Signet Classics)', 'score': 10.0}\n",
      "{'book': 'Christmas in Plains : Memories', 'score': 10.0}\n"
     ]
    }
   ],
   "source": [
    "# Display recommended books for user with ID user_id\n",
    "user_id = 197659\n",
    "\n",
    "# Note, that the amount of book IDs in rating table is larger than the amount of book IDs in book DataFrame, \n",
    "# i.e. titles of some books may not exist\n",
    "# That's why the length of `rec_books_ids` containg book IDs and `rec_books` may be various\n",
    "try:\n",
    "    rec_books_ids = get_recommendations(user_id, data_matrix, FM, 25)\n",
    "    #print rec_books_ids\n",
    "    rec_books = get_books_by_id(rec_books_ids)\n",
    "    print \"\\nRecommended books:\" \n",
    "    count = 0\n",
    "    for b in rec_books:\n",
    "        count += 1\n",
    "        if count <= 10:\n",
    "            print b \n",
    "except:\n",
    "    pass"
   ]
  },
  {
   "cell_type": "markdown",
   "metadata": {},
   "source": [
    "## 6.2. Recommendations for watched movies and error calculation"
   ]
  },
  {
   "cell_type": "code",
   "execution_count": 113,
   "metadata": {
    "collapsed": true
   },
   "outputs": [],
   "source": [
    "# This function returns the list of `topn` book IDs\n",
    "def get_recommendations_for_read_books(user_id, data_matrix, fact_matrix):\n",
    "    # Check whether the `user_id` is present in `data` matrix\n",
    "    n = len(fact_matrix[0])\n",
    "    # Get uid by user_id\n",
    "    try:\n",
    "        uid = int(user_ids[str(user_id)])\n",
    "    except:\n",
    "        print \"The user with ID = {} was not included to the factorization matrix\".format(user_id)\n",
    "        return\n",
    "    print \"How many book read the user with ID = {}:\".format(user_id), len(np.where(data_matrix[uid] > 0)[0])\n",
    "    \n",
    "    # Reset books which user with \"user_id\" has never seen\n",
    "    fact_matrix2 = fact_matrix.copy()\n",
    "    for i in xrange(n):\n",
    "        if data_matrix[uid, i] == 0.0:\n",
    "            fact_matrix2[uid, i] = 0.0\n",
    "\n",
    "    topn_books = np.argsort(fact_matrix2[uid, :])\n",
    "    data = map(lambda x: (x, round(fact_matrix2[uid, x], 3)), topn_books)\n",
    "    return filter(lambda x: x[1] > 0, data)\n",
    "\n",
    "# This function returns the list of `topn` books titles\n",
    "def get_books_by_id_for_read_books(b):\n",
    "    b0 = map(lambda x: book_ids[str(x[0])], b)\n",
    "    titles = books[books[\"book_id\"].isin(b0)][[\"book_id\", \"title\"]]\n",
    "    b = filter(lambda x: book_ids[str(x[0])] in titles['book_id'].values, b)\n",
    "    titles = titles['title'].values\n",
    "    rec_books = sorted([{\"book\": titles[i], \"score\": b[i][1]} for i in xrange(len(b))], key=lambda x: x['score'], reverse=True)\n",
    "    return rec_books\n",
    "\n",
    "# Count MSE (mean square error) and MAE (mean absolute error)\n",
    "def mse_for_read_books(user_id, read_books):\n",
    "    train = []\n",
    "    preds = []\n",
    "    for i in read_books:\n",
    "        preds.append(i['score'])\n",
    "        train.append(book_crossing[(book_crossing['user_id'] == user_id) & (book_crossing['title'] == i['book'])]['rating'].iloc[0])\n",
    "    return np.sqrt(np.sum((np.array(train) - np.array(preds)) ** 2) / len(preds))\n",
    "\n",
    "def mae_for_read_books(user_id, read_books):\n",
    "    try:\n",
    "        uid = int(user_ids[str(user_id)])\n",
    "    except:\n",
    "        print \"The user with ID = {} was not included to the factorization matrix\".format(user_id)\n",
    "        return\n",
    "    train = []\n",
    "    preds = []\n",
    "    for i in read_books:\n",
    "        preds.append(i['score'])\n",
    "        train.append(book_crossing[(book_crossing['user_id'] == user_id) & (book_crossing['title'] == i['book'])]['rating'].iloc[0])\n",
    "    return np.sum(np.abs(np.array(train) - np.array(preds))) / len(preds)"
   ]
  },
  {
   "cell_type": "code",
   "execution_count": 114,
   "metadata": {
    "scrolled": true
   },
   "outputs": [
    {
     "name": "stdout",
     "output_type": "stream",
     "text": [
      "How many book read the user with ID = 197659: 36\n",
      "36 34\n",
      "\n",
      "Recommended books:\n",
      "{'book': 'Guide to Naturalization Records of the United States', 'score': 10.0}\n",
      "{'book': 'The Prodigal Daughter', 'score': 10.0}\n",
      "{'book': 'The Ishbane Conspiracy', 'score': 9.997}\n",
      "{'book': 'The Official Andy Griffith Show Scrapbook', 'score': 9.997}\n",
      "{'book': \"ESL Teacher's Activities Kit\", 'score': 9.997}\n",
      "{'book': 'Fade (Laurel Leaf Books)', 'score': 9.996}\n",
      "{'book': 'The Fellowship of the Ring Journal (The Lord of the Rings)', 'score': 8.998}\n",
      "{'book': 'Phonics in proper perspective', 'score': 8.997}\n",
      "{'book': \"Steven Caney's Kids' America\", 'score': 8.997}\n",
      "{'book': 'Reading and Writing: Teaching for the Connections', 'score': 8.997}\n"
     ]
    }
   ],
   "source": [
    "# Display recommended books for user with ID user_id\n",
    "user_id = 197659\n",
    "\n",
    "# Note, that the amount of book IDs in rating table is larger than the amount of book IDs in book DataFrame, \n",
    "# i.e. titles of some books may not exist\n",
    "# That's why the length of `read_books_ids` containg book IDs and `read_books` may be various\n",
    "try:\n",
    "    read_books_ids = get_recommendations_for_read_books(user_id, data_matrix, FM)\n",
    "    #print read_books_ids\n",
    "    read_books = get_books_by_id_for_read_books(read_books_ids)\n",
    "    print len(read_books_ids), len(read_books)\n",
    "    print \"\\nRecommended books:\" \n",
    "    count = 0\n",
    "    for b in rec_books:\n",
    "        count += 1\n",
    "        if count <= 10:\n",
    "            print b \n",
    "except:\n",
    "    pass"
   ]
  },
  {
   "cell_type": "code",
   "execution_count": 115,
   "metadata": {},
   "outputs": [
    {
     "name": "stdout",
     "output_type": "stream",
     "text": [
      "MSE: 1.389\n",
      "MAE: 1.123\n"
     ]
    }
   ],
   "source": [
    "# Errors for each user calculating\n",
    "print \"MSE:\", round(mse_for_read_books(user_id, read_books), 3)\n",
    "print \"MAE:\", round(mae_for_read_books(user_id, read_books), 3)"
   ]
  },
  {
   "cell_type": "code",
   "execution_count": null,
   "metadata": {
    "collapsed": true
   },
   "outputs": [],
   "source": []
  }
 ],
 "metadata": {
  "kernelspec": {
   "display_name": "Python 3",
   "language": "python",
   "name": "python3"
  },
  "language_info": {
   "codemirror_mode": {
    "name": "ipython",
    "version": 3
   },
   "file_extension": ".py",
   "mimetype": "text/x-python",
   "name": "python",
   "nbconvert_exporter": "python",
   "pygments_lexer": "ipython3",
   "version": "3.6.4"
  }
 },
 "nbformat": 4,
 "nbformat_minor": 1
}
