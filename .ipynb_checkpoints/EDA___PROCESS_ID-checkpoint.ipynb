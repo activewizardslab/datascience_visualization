{
 "cells": [
  {
   "cell_type": "code",
   "execution_count": null,
   "metadata": {
    "collapsed": true,
    "deletable": true,
    "editable": true
   },
   "outputs": [],
   "source": [
    "from pyspark.sql import SQLContext, Row, DataFrame, HiveContext, SparkSession\n",
    "from pyspark.sql.functions import udf, col, lit, when, min as sql_min, collect_list, collect_set, count, desc\n",
    "from pyspark.sql.types import *\n",
    "\n",
    "sqlContext = SQLContext(sc)\n",
    "sqlContext_H = HiveContext(sc)\n",
    "\n",
    "import pandas as pd\n",
    "pd.set_option('display.max_columns', None)\n",
    "pd.set_option('display.max_rows', None)\n",
    "pd.set_option('display.max_colwidth', 250)\n",
    "\n",
    "from datetime import datetime, date\n",
    "import dateutil\n",
    "import pandas as pd\n",
    "import numpy as np\n",
    "from collections import OrderedDict\n",
    "from random import randint\n",
    "from pyspark.sql.window import Window\n",
    "import pyspark.sql.functions as func\n",
    "\n",
    "import matplotlib.pyplot as plt\n",
    "from mpl_toolkits.mplot3d import Axes3D\n",
    "%matplotlib inline"
   ]
  },
  {
   "cell_type": "markdown",
   "metadata": {
    "collapsed": true,
    "deletable": true,
    "editable": true
   },
   "source": [
    "# Read logs data"
   ]
  },
  {
   "cell_type": "code",
   "execution_count": null,
   "metadata": {
    "collapsed": false,
    "deletable": true,
    "editable": true
   },
   "outputs": [],
   "source": [
    "%%time\n",
    "\n",
    "data = sqlContext.read.parquet(\n",
    "    HOST + \"/parquet/07/*\",\n",
    "    HOST + \"/parquet/08/*\",\n",
    "    HOST + \"/parquet/09/*\"\n",
    ")\n",
    "\n",
    "def convert_dttm(x):\n",
    "    try: return datetime.strptime(x, '%Y-%m-%d %H:%M:%S')\n",
    "    except: return None\n",
    "def get_date(x):\n",
    "    try: return x.date()\n",
    "    except: return None\n",
    "    \n",
    "convert_dttm_udf = udf(convert_dttm, TimestampType())\n",
    "convert_dt_udf = udf(get_date, DateType())\n",
    "\n",
    "data = data.withColumn(\n",
    "        \"ACCESS_DTTM\", convert_dttm_udf(col(\"ACCESS_DTTM\"))\n",
    "    ).withColumn(\n",
    "        \"ACCESS_DATE\", convert_dt_udf(col(\"ACCESS_DTTM\"))\n",
    "    ).select(\n",
    "        \"ACCESS_DTTM\", \"ACCESS_DATE\", \n",
    "        \"PROCESS_ID\", \n",
    "        \"USER_ID\",\n",
    "        \"WORKSTATION\",\n",
    "        \"EPIC_PATIENT_ID\", \n",
    "        \"ENCOUNTER_DEPARTMENT\", \"ENCOUNTER_SERVICE_AREA\",\n",
    "        \"MODULE\", \"METRIC_NAME\", \"METRIC_DESCRIPTION\"\n",
    "    ).persist()\n",
    "\n",
    "sqlContext.registerDataFrameAsTable(data, \"data\")"
   ]
  },
  {
   "cell_type": "code",
   "execution_count": null,
   "metadata": {
    "collapsed": false,
    "deletable": true,
    "editable": true,
    "scrolled": true
   },
   "outputs": [],
   "source": [
    "data.limit(5).toPandas()"
   ]
  },
  {
   "cell_type": "markdown",
   "metadata": {
    "collapsed": true,
    "deletable": true,
    "editable": true
   },
   "source": [
    "# Count total records amount for three months"
   ]
  },
  {
   "cell_type": "code",
   "execution_count": null,
   "metadata": {
    "collapsed": false,
    "deletable": true,
    "editable": true
   },
   "outputs": [],
   "source": [
    "%%time\n",
    "rows = sqlContext.sql(\"SELECT COUNT(ACCESS_DTTM) FROM data\").collect()\n",
    "rows = map(lambda x: x[0], rows)[0]\n",
    "print \"Records amount: \", rows"
   ]
  },
  {
   "cell_type": "markdown",
   "metadata": {
    "deletable": true,
    "editable": true
   },
   "source": [
    "# Count percentage of empty records and unique values"
   ]
  },
  {
   "cell_type": "code",
   "execution_count": null,
   "metadata": {
    "collapsed": false,
    "deletable": true,
    "editable": true
   },
   "outputs": [],
   "source": [
    "%%time\n",
    "\n",
    "def stats(col):\n",
    "    empty = sqlContext.sql(\"SELECT COUNT(*) FROM data WHERE {0} IS NULL OR {0} == ''\".format(col)).collect()\n",
    "    empty = map(lambda x: x[0], empty)[0]\n",
    "    print \"Empty {}: {}%\".format(col, empty * 100.0 / rows)\n",
    "    print \"NOT empty {}: {}%\".format(col, 100.0 - empty * 100.0 / rows )\n",
    "    unique = sqlContext.sql(\"SELECT COUNT(DISTINCT({})) FROM data\".format(col)).collect()\n",
    "    unique = map(lambda x: x[0], unique)[0]\n",
    "    print \"Unique {2}s = {0}, percentage = {1:.3f}%\".format(unique, unique * 100.0 / rows, col)\n",
    "    \n",
    "stats(\"PROCESS_ID\")"
   ]
  },
  {
   "cell_type": "markdown",
   "metadata": {
    "deletable": true,
    "editable": true
   },
   "source": [
    "---\n",
    "> * All records have PROCESS_ID identifier\n",
    "> * There about 800K unique PROCESS_ID\n",
    "\n",
    "---"
   ]
  },
  {
   "cell_type": "code",
   "execution_count": null,
   "metadata": {
    "collapsed": false,
    "deletable": true,
    "editable": true
   },
   "outputs": [],
   "source": [
    "%%time\n",
    "\n",
    "stats(\"USER_ID\")\n",
    "print(\"\\n\" + \"-\"*100)\n",
    "stats(\"EPIC_PATIENT_ID\")\n",
    "print(\"\\n\" + \"-\"*100)\n",
    "stats(\"WORKSTATION\")\n",
    "print(\"\\n\" + \"-\"*100)\n",
    "stats(\"MODULE\")\n",
    "print(\"\\n\" + \"-\"*100)\n",
    "stats(\"METRIC_NAME\")\n",
    "print(\"\\n\" + \"-\"*100)\n",
    "stats(\"ENCOUNTER_DEPARTMENT\")\n",
    "print(\"\\n\" + \"-\"*100)\n",
    "stats(\"ENCOUNTER_SERVICE_AREA\")\n",
    "print"
   ]
  },
  {
   "cell_type": "markdown",
   "metadata": {
    "deletable": true,
    "editable": true
   },
   "source": [
    "---\n",
    "> * All records have a defined user, i.e. we always know who is making requests\n",
    "> * There are about 11% records where a patient is undefined\n",
    "> * There are also about 3.3% of records where workstation is undefined. Almost all users may work on undefined workstation. Such behaviour still remains unclear\n",
    "> * We may alsways know which action do a user, because METRIC_NAME (that describes event) is defined\n",
    "> * ENCOUNTER_DEPARTMENT and ENCOUNTER_SERVICE_AREA mostly are undefined that's why cannot be used as some feature in general\n",
    "\n",
    "---"
   ]
  },
  {
   "cell_type": "markdown",
   "metadata": {
    "deletable": true,
    "editable": true
   },
   "source": [
    "# Calculate how many user / patients are related with a PROCESS_ID"
   ]
  },
  {
   "cell_type": "code",
   "execution_count": null,
   "metadata": {
    "collapsed": false,
    "deletable": true,
    "editable": true
   },
   "outputs": [],
   "source": [
    "%%time\n",
    "query = \" \".join([\n",
    "    \"SELECT PROCESS_ID, COUNT(DISTINCT(USER_ID)) AS USERS, COUNT(DISTINCT(EPIC_PATIENT_ID)) AS PATIENTS, COUNT(USER_ID) AS USAGE\",\n",
    "    \"FROM data\",\n",
    "    \"GROUP BY PROCESS_ID\"\n",
    "])\n",
    "\n",
    "c = sqlContext.sql(query).persist()\n",
    "c.show(10)"
   ]
  },
  {
   "cell_type": "markdown",
   "metadata": {
    "deletable": true,
    "editable": true
   },
   "source": [
    "### Let's plot a histogram"
   ]
  },
  {
   "cell_type": "code",
   "execution_count": null,
   "metadata": {
    "collapsed": false,
    "deletable": true,
    "editable": true
   },
   "outputs": [],
   "source": [
    "%%time\n",
    "def hist_draw(df, col, bins=200):\n",
    "    plt.figure(figsize=(16, 8))\n",
    "    x = np.array(map(lambda x: x[0], df.select(col).collect()))\n",
    "    plt.hist(x, bins, facecolor='green', alpha=0.75)\n",
    "    plt.xlabel(col, fontsize=12)\n",
    "    plt.ylabel('PROCESS_ID amount', fontsize=12)\n",
    "    plt.grid(True)\n",
    "    plt.show()\n",
    "    \n",
    "hist_draw(c, 'USERS')\n",
    "hist_draw(c, 'PATIENTS')"
   ]
  },
  {
   "cell_type": "markdown",
   "metadata": {
    "deletable": true,
    "editable": true
   },
   "source": [
    "---\n",
    "> * The vast majority of users and patients work within a low amount of PROCESS_IDs. In other words, a lot of PROCESS_IDs have only few users / patients (see below histogram)\n",
    "> * But we can observe also PROCESS_IDs with hundreds / thousands users and thousands / tens of thousands patients\n",
    "\n",
    "---\n",
    "\n",
    "Let's look more deeply"
   ]
  },
  {
   "cell_type": "code",
   "execution_count": null,
   "metadata": {
    "collapsed": false,
    "deletable": true,
    "editable": true
   },
   "outputs": [],
   "source": [
    "%%time\n",
    "def hist_draw(df, col, bins=200, axis=[0, 100, 0, 100]):\n",
    "    plt.figure(figsize=(16, 8))\n",
    "    x = np.array(map(lambda x: x[0], df.select(col).collect()))\n",
    "    plt.hist(x, bins, facecolor='green', alpha=0.75)\n",
    "    plt.xlabel(col, fontsize=12)\n",
    "    plt.ylabel('PROCESS_ID amount', fontsize=12)\n",
    "    plt.axis(axis)\n",
    "    plt.grid(True)\n",
    "    plt.show()\n",
    "    \n",
    "hist_draw(c, 'USERS', bins=1000, axis=[0, 50, 0, 200000])\n",
    "hist_draw(c, 'PATIENTS', bins=100000, axis=[0, 200, 0, 250000])"
   ]
  },
  {
   "cell_type": "markdown",
   "metadata": {
    "deletable": true,
    "editable": true
   },
   "source": [
    "# Let's display how many PROCESS_IDs has a user / patient"
   ]
  },
  {
   "cell_type": "code",
   "execution_count": null,
   "metadata": {
    "collapsed": false,
    "deletable": true,
    "editable": true
   },
   "outputs": [],
   "source": [
    "%%time\n",
    "query = \" \".join([\n",
    "    \"SELECT USER_ID, COUNT(DISTINCT(PROCESS_ID)) AS PROCESS_IDs, COUNT(ACCESS_DTTM) AS USAGE\",\n",
    "    \"FROM data\",\n",
    "    \"GROUP BY USER_ID\"\n",
    "])\n",
    "\n",
    "u = sqlContext.sql(query).persist()\n",
    "u.show(10)"
   ]
  },
  {
   "cell_type": "code",
   "execution_count": null,
   "metadata": {
    "collapsed": false,
    "deletable": true,
    "editable": true
   },
   "outputs": [],
   "source": [
    "%%time\n",
    "query = \" \".join([\n",
    "    \"SELECT EPIC_PATIENT_ID, COUNT(DISTINCT(PROCESS_ID)) AS PROCESS_IDs, COUNT(ACCESS_DTTM) AS USAGE\",\n",
    "    \"FROM data\",\n",
    "    \"GROUP BY EPIC_PATIENT_ID\"\n",
    "])\n",
    "\n",
    "p = sqlContext.sql(query).persist()\n",
    "p.show(10)"
   ]
  },
  {
   "cell_type": "markdown",
   "metadata": {
    "deletable": true,
    "editable": true
   },
   "source": [
    "### Visualize results on histograms"
   ]
  },
  {
   "cell_type": "code",
   "execution_count": null,
   "metadata": {
    "collapsed": false,
    "deletable": true,
    "editable": true
   },
   "outputs": [],
   "source": [
    "%%time\n",
    "def hist_draw(df, ylabel, bins=200, axis=[0, 100, 0, 100]):\n",
    "    plt.figure(figsize=(16, 8))\n",
    "    x = np.array(map(lambda x: x[0], df.select(\"PROCESS_IDs\").collect()))\n",
    "    plt.hist(x, bins, facecolor='green', alpha=0.75)\n",
    "    plt.xlabel(\"PROCESS_IDs per one person\", fontsize=12)\n",
    "    plt.ylabel(ylabel + ' amount', fontsize=12)\n",
    "    plt.axis(axis)\n",
    "    plt.grid(True)\n",
    "    plt.show()\n",
    "    \n",
    "hist_draw(u, 'USERS', bins=10000, axis=[0, 2000, 0, 2000])\n",
    "hist_draw(p, 'PATIENTS', bins=50000, axis=[0, 2000, 0, 10000])"
   ]
  },
  {
   "cell_type": "code",
   "execution_count": null,
   "metadata": {
    "collapsed": false,
    "deletable": true,
    "editable": true
   },
   "outputs": [],
   "source": [
    "unique_PROCESS_IDs = 778287\n",
    "single = c.filter(\"USERS = 1 AND PATIENTS = 1\").count()\n",
    "print \"PROCESS_IDs with only one user and only one patient =\", single\n",
    "print \"Percent of such PROCESS_IDs = {}%\".format(single / float(unique_PROCESS_IDs))"
   ]
  },
  {
   "cell_type": "markdown",
   "metadata": {
    "deletable": true,
    "editable": true
   },
   "source": [
    "---\n",
    "\n",
    "> * Users / patients may be related with different PROCESS_IDs as well as PROCESS_IDs have various user / patients\n",
    "> * There are pairs user + patient that are joined only by one PROCESS_ID, but there is a high percent (99%) of user + patient pairs joined by many PROCESS_IDs\n",
    "\n",
    "---"
   ]
  },
  {
   "cell_type": "markdown",
   "metadata": {
    "deletable": true,
    "editable": true
   },
   "source": [
    "# Lets' visualize dynamics of PROCESS_IDs usage in time"
   ]
  },
  {
   "cell_type": "markdown",
   "metadata": {
    "deletable": true,
    "editable": true
   },
   "source": [
    "**USER_ID = '10627' AND EPIC_PATIENT_ID = 'Z2638161'**"
   ]
  },
  {
   "cell_type": "code",
   "execution_count": null,
   "metadata": {
    "collapsed": false,
    "deletable": true,
    "editable": true
   },
   "outputs": [],
   "source": [
    "vals = sqlContext.sql(\n",
    "    \"SELECT PROCESS_ID, ACCESS_DATE, COUNT(ACCESS_DTTM) AS amount \" +\\\n",
    "    \"FROM data \" + \\\n",
    "    \"WHERE USER_ID = '10627' AND EPIC_PATIENT_ID = 'Z2638161' \" +\\\n",
    "    \"GROUP BY PROCESS_ID, ACCESS_DATE ORDER BY ACCESS_DATE\"\n",
    ")\n",
    "vals.toPandas().head(25)"
   ]
  },
  {
   "cell_type": "code",
   "execution_count": null,
   "metadata": {
    "collapsed": false,
    "deletable": true,
    "editable": true
   },
   "outputs": [],
   "source": [
    "from matplotlib.ticker import Formatter\n",
    "\n",
    "class MyFormatter(Formatter):\n",
    "    def __init__(self, dates, fmt='%Y-%m-%d'):\n",
    "        self.dates = dates\n",
    "        self.fmt = fmt\n",
    "\n",
    "    def __call__(self, x, pos=0):\n",
    "        'Return the label for time x at position pos'\n",
    "        ind = int(round(x))\n",
    "        if ind >= len(self.dates) or ind < 0:\n",
    "            return ''\n",
    "        return self.dates[ind].strftime(self.fmt)\n",
    "    \n",
    "dates = vals.select(\"ACCESS_DATE\").distinct().collect()\n",
    "dates = np.array(map(lambda x: x[0], dates))\n",
    "processes = vals.select(\"PROCESS_ID\").distinct().collect()\n",
    "processes = np.array(map(lambda x: x[0], processes))\n",
    "\n",
    "formatter = MyFormatter(dates)\n",
    "colors = (\n",
    "    'r', 'b', 'g', 'm', 'y', 'c', 'indigo', 'gold', 'pink', 'grey', \n",
    "    'purple', 'lime', 'darkred', 'salmon', 'navy', 'brown', 'coral'\n",
    ")\n",
    "\n",
    "fig, ax = plt.subplots(figsize=(16,8))\n",
    "ax.xaxis.set_major_formatter(formatter)\n",
    "for p, c in zip(processes, colors):\n",
    "    y = vals.filter(\"PROCESS_ID = '{}'\".format(p)).select(\"ACCESS_DATE\", \"amount\").collect()\n",
    "    y = {i[0]: i[1] for i in map(lambda x: (x[0], x[1]), y)}\n",
    "    y = [y[i] if i in y.keys() else 0 for i in dates]\n",
    "    ax.plot(np.arange(len(dates)), y, 'o-', c=c, label=p)\n",
    "plt.legend(loc=\"upper right\", bbox_to_anchor=[0, 1], shadow=True, title=\"Legend\", fancybox=True)\n",
    "ax.get_legend().get_title().set_color(\"red\")\n",
    "fig.autofmt_xdate()\n",
    "plt.show()"
   ]
  },
  {
   "cell_type": "code",
   "execution_count": null,
   "metadata": {
    "collapsed": false,
    "deletable": true,
    "editable": true
   },
   "outputs": [],
   "source": [
    "vals2 = sqlContext.sql(\n",
    "    \"SELECT MODULE, ACCESS_DATE, COUNT(DISTINCT(PROCESS_ID)) AS amount \" +\\\n",
    "    \"FROM data \" + \\\n",
    "    \"WHERE USER_ID = '10627' AND EPIC_PATIENT_ID = 'Z2638161' \" +\\\n",
    "    \"GROUP BY MODULE, ACCESS_DATE ORDER BY ACCESS_DATE\"\n",
    ")\n",
    "vals2.toPandas().head(25)"
   ]
  },
  {
   "cell_type": "code",
   "execution_count": null,
   "metadata": {
    "collapsed": false,
    "deletable": true,
    "editable": true
   },
   "outputs": [],
   "source": [
    "dates = vals2.select(\"ACCESS_DATE\").distinct().collect()\n",
    "dates = np.array(map(lambda x: x[0], dates))\n",
    "modules = vals2.select(\"MODULE\").distinct().collect()\n",
    "modules = np.array(map(lambda x: x[0], modules))\n",
    "\n",
    "formatter = MyFormatter(dates)\n",
    "\n",
    "fig, ax = plt.subplots(figsize=(16,8))\n",
    "ax.xaxis.set_major_formatter(formatter)\n",
    "for m, c in zip(modules, colors):\n",
    "    y = vals2.filter(\"MODULE = '{}'\".format(m)).select(\"ACCESS_DATE\", \"amount\").collect()\n",
    "    y = {i[0]: i[1] for i in map(lambda x: (x[0], x[1]), y)}\n",
    "    y = [y[i] if i in y.keys() else 0 for i in dates]\n",
    "    ax.plot(np.arange(len(dates)), y, 'o-', c=c, label=m)\n",
    "plt.legend(loc=\"upper right\", bbox_to_anchor=[0, 1], shadow=True, title=\"Legend\", fancybox=True)\n",
    "ax.get_legend().get_title().set_color(\"red\")\n",
    "fig.autofmt_xdate()\n",
    "plt.show()"
   ]
  },
  {
   "cell_type": "markdown",
   "metadata": {
    "deletable": true,
    "editable": true
   },
   "source": [
    "**USER_ID = '10627' AND EPIC_PATIENT_ID = 'Z3314013'**"
   ]
  },
  {
   "cell_type": "code",
   "execution_count": null,
   "metadata": {
    "collapsed": false,
    "deletable": true,
    "editable": true
   },
   "outputs": [],
   "source": [
    "vals = sqlContext.sql(\n",
    "    \"SELECT PROCESS_ID, ACCESS_DATE, COUNT(ACCESS_DTTM) AS amount \" +\\\n",
    "    \"FROM data \" + \\\n",
    "    \"WHERE USER_ID = '10627' AND EPIC_PATIENT_ID = 'Z3314013' \" +\\\n",
    "    \"GROUP BY PROCESS_ID, ACCESS_DATE ORDER BY ACCESS_DATE\"\n",
    ")\n",
    "vals.toPandas().head(5)"
   ]
  },
  {
   "cell_type": "code",
   "execution_count": null,
   "metadata": {
    "collapsed": false,
    "deletable": true,
    "editable": true
   },
   "outputs": [],
   "source": [
    "dates = vals.select(\"ACCESS_DATE\").distinct().collect()\n",
    "dates = np.array(map(lambda x: x[0], dates))\n",
    "processes = vals.select(\"PROCESS_ID\").distinct().collect()\n",
    "processes = np.array(map(lambda x: x[0], processes))\n",
    "\n",
    "formatter = MyFormatter(dates)\n",
    "\n",
    "fig, ax = plt.subplots(figsize=(16,8))\n",
    "ax.xaxis.set_major_formatter(formatter)\n",
    "for p, c in zip(processes, colors):\n",
    "    y = vals.filter(\"PROCESS_ID = '{}'\".format(p)).select(\"ACCESS_DATE\", \"amount\").collect()\n",
    "    y = {i[0]: i[1] for i in map(lambda x: (x[0], x[1]), y)}\n",
    "    y = [y[i] if i in y.keys() else 0 for i in dates]\n",
    "    ax.plot(np.arange(len(dates)), y, 'o-', c=c, label=p)\n",
    "plt.legend(loc=\"upper right\", bbox_to_anchor=[0, 1], shadow=True, title=\"Legend\", fancybox=True)\n",
    "ax.get_legend().get_title().set_color(\"red\")\n",
    "fig.autofmt_xdate()\n",
    "plt.show()"
   ]
  },
  {
   "cell_type": "code",
   "execution_count": null,
   "metadata": {
    "collapsed": false,
    "deletable": true,
    "editable": true
   },
   "outputs": [],
   "source": [
    "vals2 = sqlContext.sql(\n",
    "    \"SELECT MODULE, ACCESS_DATE, COUNT(DISTINCT(PROCESS_ID)) AS amount \" +\\\n",
    "    \"FROM data \" + \\\n",
    "    \"WHERE USER_ID = '10627' AND EPIC_PATIENT_ID = 'Z3314013' \" +\\\n",
    "    \"GROUP BY MODULE, ACCESS_DATE ORDER BY ACCESS_DATE\"\n",
    ")\n",
    "vals2.toPandas().head(5)"
   ]
  },
  {
   "cell_type": "code",
   "execution_count": null,
   "metadata": {
    "collapsed": false,
    "deletable": true,
    "editable": true
   },
   "outputs": [],
   "source": [
    "dates = vals2.select(\"ACCESS_DATE\").distinct().collect()\n",
    "dates = np.array(map(lambda x: x[0], dates))\n",
    "modules = vals2.select(\"MODULE\").distinct().collect()\n",
    "modules = np.array(map(lambda x: x[0], modules))\n",
    "\n",
    "formatter = MyFormatter(dates)\n",
    "\n",
    "fig, ax = plt.subplots(figsize=(16,8))\n",
    "ax.xaxis.set_major_formatter(formatter)\n",
    "for m, c in zip(modules, colors):\n",
    "    y = vals2.filter(\"MODULE = '{}'\".format(m)).select(\"ACCESS_DATE\", \"amount\").collect()\n",
    "    y = {i[0]: i[1] for i in map(lambda x: (x[0], x[1]), y)}\n",
    "    y = [y[i] if i in y.keys() else 0 for i in dates]\n",
    "    ax.plot(np.arange(len(dates)), y, 'o-', c=c, label=m)\n",
    "plt.legend(loc=\"upper right\", bbox_to_anchor=[0, 1], shadow=True, title=\"Legend\", fancybox=True)\n",
    "ax.get_legend().get_title().set_color(\"red\")\n",
    "fig.autofmt_xdate()\n",
    "plt.show()"
   ]
  },
  {
   "cell_type": "markdown",
   "metadata": {
    "deletable": true,
    "editable": true
   },
   "source": [
    "---\n",
    "\n",
    "> * PROCESS_IDs' amount for one and the same MODULE query may changing from day to day\n",
    "> * Usage of PROCESS_IDs in time is not stable\n",
    "\n",
    "---"
   ]
  },
  {
   "cell_type": "code",
   "execution_count": null,
   "metadata": {
    "collapsed": true,
    "deletable": true,
    "editable": true
   },
   "outputs": [],
   "source": []
  }
 ],
 "metadata": {
  "kernelspec": {
   "display_name": "Python 3",
   "language": "python",
   "name": "python3"
  },
  "language_info": {
   "codemirror_mode": {
    "name": "ipython",
    "version": 3
   },
   "file_extension": ".py",
   "mimetype": "text/x-python",
   "name": "python",
   "nbconvert_exporter": "python",
   "pygments_lexer": "ipython3",
   "version": "3.5.3"
  }
 },
 "nbformat": 4,
 "nbformat_minor": 1
}
