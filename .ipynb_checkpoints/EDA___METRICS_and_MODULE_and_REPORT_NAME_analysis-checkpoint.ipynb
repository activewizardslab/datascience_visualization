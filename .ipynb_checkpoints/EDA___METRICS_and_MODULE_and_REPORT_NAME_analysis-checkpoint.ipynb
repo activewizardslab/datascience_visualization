{
 "cells": [
  {
   "cell_type": "code",
   "execution_count": null,
   "metadata": {
    "collapsed": false,
    "deletable": true,
    "editable": true
   },
   "outputs": [],
   "source": [
    "from pyspark.sql import SQLContext, Row, DataFrame, HiveContext, SparkSession\n",
    "from pyspark.sql.functions import udf, col, lit, when, min as sql_min\n",
    "from pyspark.sql.types import *\n",
    "\n",
    "sqlContext = SQLContext(sc)\n",
    "sqlContext_H = HiveContext(sc)\n",
    "\n",
    "import pandas as pd\n",
    "pd.set_option('display.max_columns', None)\n",
    "pd.set_option('display.max_rows', None)\n",
    "\n",
    "from datetime import datetime, date\n",
    "import dateutil\n",
    "import pandas as pd\n",
    "import numpy as np\n",
    "from collections import OrderedDict\n",
    "from random import randint\n",
    "from pyspark.sql.window import Window\n",
    "import pyspark.sql.functions as func\n",
    "import matplotlib.pyplot as plt\n",
    "%matplotlib inline"
   ]
  },
  {
   "cell_type": "code",
   "execution_count": null,
   "metadata": {
    "collapsed": false,
    "deletable": true,
    "editable": true
   },
   "outputs": [],
   "source": [
    "%%time\n",
    "\n",
    "data = sqlContext_H.read.parquet(\n",
    "    HOST + \"/parquet/07/*\",\n",
    "    HOST + \"/parquet/08/*\",\n",
    "    HOST + \"/parquet/09/*\"\n",
    ")\n",
    "\n",
    "def convert_dttm(x):\n",
    "    try:\n",
    "        return datetime.strptime(x, '%Y-%m-%d %H:%M:%S')\n",
    "    except:\n",
    "        return None\n",
    "convert_dttm_udf =  udf(convert_dttm, TimestampType())\n",
    "\n",
    "data = data.withColumn(\n",
    "        \"ACCESS_DTTM\", convert_dttm_udf(col(\"ACCESS_DTTM\"))\n",
    "    ).withColumn(\n",
    "        \"ADMISSION_DTTM\", convert_dttm_udf(col(\"ADMISSION_DTTM\"))\n",
    "    ).withColumn(\n",
    "        \"DISCHARGE_DTTM\", convert_dttm_udf(col(\"DISCHARGE_DTTM\"))\n",
    "    )"
   ]
  },
  {
   "cell_type": "code",
   "execution_count": null,
   "metadata": {
    "collapsed": false,
    "deletable": true,
    "editable": true
   },
   "outputs": [],
   "source": [
    "data.limit(10).toPandas()"
   ]
  },
  {
   "cell_type": "markdown",
   "metadata": {
    "deletable": true,
    "editable": true
   },
   "source": [
    "---\n",
    "### 1. Select fields"
   ]
  },
  {
   "cell_type": "code",
   "execution_count": null,
   "metadata": {
    "collapsed": false,
    "deletable": true,
    "editable": true
   },
   "outputs": [],
   "source": [
    "#data_analysis.unpersist()\n",
    "columns = [\"ACCESS_DTTM\", \"USER_ID\", \"METRIC_NAME\", \"MODULE\", \"EPIC_PATIENT_ID\", \"REPORT_NAME\", \"METRIC_DESCRIPTION\"]\n",
    "data_analysis = data.select(columns).persist()\n",
    "data_analysis.limit(3).toPandas()"
   ]
  },
  {
   "cell_type": "code",
   "execution_count": null,
   "metadata": {
    "collapsed": true,
    "deletable": true,
    "editable": true
   },
   "outputs": [],
   "source": [
    "sqlContext_H.registerDataFrameAsTable(data_analysis, \"data_analysis\")"
   ]
  },
  {
   "cell_type": "code",
   "execution_count": null,
   "metadata": {
    "collapsed": true,
    "deletable": true,
    "editable": true
   },
   "outputs": [],
   "source": [
    "def draw_plot(rdd, x, y, n, title=''):\n",
    "    X = rdd.rdd.map(lambda p: p[x]).take(n)\n",
    "    Y = rdd.rdd.map(lambda p: p[y]).take(n)\n",
    "    fig = plt.figure(figsize=(18,6))\n",
    "    fig.suptitle(title, fontsize=14, fontweight='bold')\n",
    "\n",
    "    width = .35\n",
    "    ind = np.arange(len(Y))\n",
    "    plt.bar(ind, Y, width=width)\n",
    "    plt.xticks(ind + width / 2, X)\n",
    "    \n",
    "    fig.autofmt_xdate()\n",
    "\n",
    "    print('\\n')"
   ]
  },
  {
   "cell_type": "markdown",
   "metadata": {
    "deletable": true,
    "editable": true
   },
   "source": [
    "---\n",
    "### 2. Amount of unique modules, unique metrics"
   ]
  },
  {
   "cell_type": "code",
   "execution_count": null,
   "metadata": {
    "collapsed": false,
    "deletable": true,
    "editable": true
   },
   "outputs": [],
   "source": [
    "%%time\n",
    "query = \" \".join([\n",
    "        \"SELECT COUNT(DISTINCT MODULE) AS DISTINCT_MODULE\",\n",
    "        \"FROM data_analysis\",\n",
    "    ])\n",
    "u_mo = sqlContext_H.sql(query)\n",
    "u_mo.show()"
   ]
  },
  {
   "cell_type": "code",
   "execution_count": null,
   "metadata": {
    "collapsed": false,
    "deletable": true,
    "editable": true
   },
   "outputs": [],
   "source": [
    "%%time\n",
    "query = \" \".join([\n",
    "        \"SELECT COUNT(DISTINCT METRIC_NAME) AS DISTINCT_METRIC_NAME\",\n",
    "        \"FROM data_analysis\",\n",
    "    ])\n",
    "u_me = sqlContext_H.sql(query)\n",
    "u_me.show()"
   ]
  },
  {
   "cell_type": "markdown",
   "metadata": {
    "deletable": true,
    "editable": true
   },
   "source": [
    "---\n",
    "> * Total unique MODULE amount is 39.\n",
    "> * Total unique METRIC_NAME amount is 689.\n",
    "\n",
    "---"
   ]
  },
  {
   "cell_type": "markdown",
   "metadata": {
    "deletable": true,
    "editable": true
   },
   "source": [
    "---\n",
    "### 3. Percentage of records with undefined modules and metrics"
   ]
  },
  {
   "cell_type": "code",
   "execution_count": null,
   "metadata": {
    "collapsed": false,
    "deletable": true,
    "editable": true
   },
   "outputs": [],
   "source": [
    "%%time\n",
    "total_rows = data_analysis.rdd.count()\n",
    "print \"Total rows in datasset: {}\".format(total_rows)"
   ]
  },
  {
   "cell_type": "code",
   "execution_count": null,
   "metadata": {
    "collapsed": false,
    "deletable": true,
    "editable": true
   },
   "outputs": [],
   "source": [
    "%%time\n",
    "query = \" \".join([\n",
    "    \"SELECT *\",\n",
    "    \"FROM data_analysis\",\n",
    "    \"WHERE MODULE = ''\",\n",
    "    \"OR MODULE = 'None'\",\n",
    "    \"OR MODULE = null\"\n",
    "])\n",
    "u_mo = sqlContext_H.sql(query)\n",
    "c_u_mo = u_mo.rdd.count()\n",
    "c_u_mo"
   ]
  },
  {
   "cell_type": "code",
   "execution_count": null,
   "metadata": {
    "collapsed": false,
    "deletable": true,
    "editable": true
   },
   "outputs": [],
   "source": [
    "%%time\n",
    "per_mo = (c_u_mo*100.0)/total_rows\n",
    "print \"Percentage of rows where MODULE is undefined: {:.2f}%\".format(per_mo)"
   ]
  },
  {
   "cell_type": "code",
   "execution_count": null,
   "metadata": {
    "collapsed": false,
    "deletable": true,
    "editable": true
   },
   "outputs": [],
   "source": [
    "%%time\n",
    "query = \" \".join([\n",
    "    \"SELECT *\",\n",
    "    \"FROM data_analysis\",\n",
    "    \"WHERE METRIC_NAME = ''\",\n",
    "    \"OR METRIC_NAME = 'None'\",\n",
    "    \"OR METRIC_NAME = null\"\n",
    "])\n",
    "u_me = sqlContext_H.sql(query)\n",
    "c_u_me = u_me.rdd.count()\n",
    "c_u_me"
   ]
  },
  {
   "cell_type": "code",
   "execution_count": null,
   "metadata": {
    "collapsed": false,
    "deletable": true,
    "editable": true
   },
   "outputs": [],
   "source": [
    "%%time\n",
    "per_me = (c_u_me*100.0)/total_rows\n",
    "print \"Percentage of rows where METRIC_NAME is undefined: {:.2f}%\".format(per_me)"
   ]
  },
  {
   "cell_type": "markdown",
   "metadata": {
    "deletable": true,
    "editable": true
   },
   "source": [
    "---\n",
    "> * There are about 4% records where a MODULE is undefined.\n",
    "> * All records have a METRIC_NAME.\n",
    "\n",
    "---\n",
    "\n",
    "# ..."
   ]
  },
  {
   "cell_type": "markdown",
   "metadata": {
    "deletable": true,
    "editable": true
   },
   "source": [
    "---\n",
    "### 8. Find all records related with record printing (this info may also be in METRIC_DESCRIPTION field) and investigate its dynamics"
   ]
  },
  {
   "cell_type": "code",
   "execution_count": null,
   "metadata": {
    "collapsed": false,
    "deletable": true,
    "editable": true
   },
   "outputs": [],
   "source": [
    "%%time\n",
    "def f1(x):\n",
    "    return str(x.date())\n",
    "\n",
    "def f2(x):\n",
    "    return x.hour\n",
    "\n",
    "def f3(c1, c2, c3):\n",
    "    if 'print' in (c1 + ' ' + c2 + ' ' + c3).lower():\n",
    "        return 1\n",
    "    else:\n",
    "        return 0\n",
    "\n",
    "#dow_udf = udf(f1, IntegerType())\n",
    "dow_udf = udf(f1, StringType())\n",
    "time_udf = udf(f2, IntegerType())\n",
    "f_udf = udf(f3, IntegerType())\n",
    "\n",
    "check_df = data_analysis.withColumn(\"CKECK\", f_udf(col(\"METRIC_DESCRIPTION\"), col(\"MODULE\"), col(\"METRIC_NAME\")))\\\n",
    "                        .withColumn(\"DAY\", dow_udf(col(\"ACCESS_DTTM\")))\\\n",
    "                        .withColumn(\"TIME_OF_DAY\", time_udf(col(\"ACCESS_DTTM\")))\n",
    "                       #.withColumn(\"DAY_OF_WEEK\", dow_udf(col(\"ACCESS_DTTM\")))\\\n",
    "sqlContext_H.registerDataFrameAsTable(check_df, 'check_df')"
   ]
  },
  {
   "cell_type": "code",
   "execution_count": null,
   "metadata": {
    "collapsed": false,
    "deletable": true,
    "editable": true
   },
   "outputs": [],
   "source": [
    "%%time\n",
    "query = \" \".join([\n",
    "        \"SELECT *\",\n",
    "        \"FROM check_df\",\n",
    "        \"WHERE CKECK = 1 OR REPORT_NAME = 'Print' OR REPORT_NAME = 'Printed/Sent by Order Transmittal'\"\n",
    "    ])\n",
    "with_print = sqlContext_H.sql(query)\n",
    "sqlContext_H.registerDataFrameAsTable(with_print, 'with_print')"
   ]
  },
  {
   "cell_type": "code",
   "execution_count": null,
   "metadata": {
    "collapsed": false,
    "deletable": true,
    "editable": true
   },
   "outputs": [],
   "source": [
    "%%time\n",
    "with_print.limit(5).toPandas()"
   ]
  },
  {
   "cell_type": "code",
   "execution_count": null,
   "metadata": {
    "collapsed": false,
    "deletable": true,
    "editable": true
   },
   "outputs": [],
   "source": [
    "%%time\n",
    "query = \" \".join([\n",
    "        \"SELECT concat_ws(';', collect_set(METRIC_NAME)) AS METRIC_NAME,\",\n",
    "        \"concat_ws(';', collect_set(MODULE)) AS MODULE,\",\n",
    "        \"concat_ws(';', collect_set(METRIC_DESCRIPTION)) AS METRIC_DESCRIPTION\",\n",
    "        \"FROM with_print\",\n",
    "        #\"GROUP BY METRIC_NAME, MODULE, METRIC_DESCRIPTION\"\n",
    "    ])\n",
    "collect_df = sqlContext_H.sql(query)"
   ]
  },
  {
   "cell_type": "code",
   "execution_count": null,
   "metadata": {
    "collapsed": false,
    "deletable": true,
    "editable": true
   },
   "outputs": [],
   "source": [
    "%%time\n",
    "collect_df.limit(10).toPandas()"
   ]
  },
  {
   "cell_type": "code",
   "execution_count": null,
   "metadata": {
    "collapsed": true,
    "deletable": true,
    "editable": true
   },
   "outputs": [],
   "source": [
    "collect_df_pd = collect_df.toPandas()"
   ]
  },
  {
   "cell_type": "code",
   "execution_count": null,
   "metadata": {
    "collapsed": true,
    "deletable": true,
    "editable": true
   },
   "outputs": [],
   "source": [
    "m_n_l = [i for i in collect_df_pd['METRIC_NAME'].values.tolist()[0].split(';') if 'print' in i.lower()]\n",
    "filter_metric = \"WHERE \" + ' OR '.join([\"METRIC_NAME = '{0}'\".format(i) for i in m_n_l])"
   ]
  },
  {
   "cell_type": "code",
   "execution_count": null,
   "metadata": {
    "collapsed": false,
    "deletable": true,
    "editable": true
   },
   "outputs": [],
   "source": [
    "filter_metric"
   ]
  },
  {
   "cell_type": "code",
   "execution_count": null,
   "metadata": {
    "collapsed": false,
    "deletable": true,
    "editable": true
   },
   "outputs": [],
   "source": [
    "print \"Distinct values of METRIC_NAME: {}\".format(len(m_n_l))"
   ]
  },
  {
   "cell_type": "code",
   "execution_count": null,
   "metadata": {
    "collapsed": false,
    "deletable": true,
    "editable": true
   },
   "outputs": [],
   "source": [
    "print m_n_l"
   ]
  },
  {
   "cell_type": "code",
   "execution_count": null,
   "metadata": {
    "collapsed": true,
    "deletable": true,
    "editable": true
   },
   "outputs": [],
   "source": [
    "mo_l = [i for i in collect_df_pd['MODULE'].values.tolist()[0].split(';') if 'print' in i.lower()]\n",
    "filter_module = \"WHERE \" + ' OR '.join([\"MODULE = '{0}'\".format(i) for i in mo_l])"
   ]
  },
  {
   "cell_type": "code",
   "execution_count": null,
   "metadata": {
    "collapsed": false,
    "deletable": true,
    "editable": true
   },
   "outputs": [],
   "source": [
    "print \"Distinct values of MODULE: {}\".format(len(mo_l))"
   ]
  },
  {
   "cell_type": "code",
   "execution_count": null,
   "metadata": {
    "collapsed": false,
    "deletable": true,
    "editable": true
   },
   "outputs": [],
   "source": [
    "print mo_l"
   ]
  },
  {
   "cell_type": "code",
   "execution_count": null,
   "metadata": {
    "collapsed": true,
    "deletable": true,
    "editable": true
   },
   "outputs": [],
   "source": [
    "me_d = [i for i in collect_df_pd['METRIC_DESCRIPTION'].values.tolist()[0].split(';') if 'print' in i.lower()]\n",
    "filter_metric_des = \"WHERE \" + ' OR '.join([\"METRIC_DESCRIPTION = '{0}'\".format(i) for i in me_d])"
   ]
  },
  {
   "cell_type": "code",
   "execution_count": null,
   "metadata": {
    "collapsed": false,
    "deletable": true,
    "editable": true
   },
   "outputs": [],
   "source": [
    "print \"Distinct values of METRIC_DESCRIPTION: {}\".format(len(me_d))"
   ]
  },
  {
   "cell_type": "code",
   "execution_count": null,
   "metadata": {
    "collapsed": false,
    "deletable": true,
    "editable": true
   },
   "outputs": [],
   "source": [
    "print me_d"
   ]
  },
  {
   "cell_type": "markdown",
   "metadata": {
    "deletable": true,
    "editable": true
   },
   "source": [
    "#### 8.1 How many users have these metrics / modules / metric descriptions"
   ]
  },
  {
   "cell_type": "code",
   "execution_count": null,
   "metadata": {
    "collapsed": false,
    "deletable": true,
    "editable": true
   },
   "outputs": [],
   "source": [
    "%%time\n",
    "u_users_c = with_print.select(\"USER_ID\").distinct().rdd.count()\n",
    "print \"Users has these metrics/modules/metric_descriptions: {}\".format(u_users_c)"
   ]
  },
  {
   "cell_type": "markdown",
   "metadata": {
    "deletable": true,
    "editable": true
   },
   "source": [
    "#### 8.2 Which of them are most popular"
   ]
  },
  {
   "cell_type": "code",
   "execution_count": null,
   "metadata": {
    "collapsed": false,
    "deletable": true,
    "editable": true
   },
   "outputs": [],
   "source": [
    "query = \" \".join([\n",
    "        \"SELECT METRIC_NAME, MODULE, COUNT(METRIC_NAME) AS AMOUNT, COUNT(DISTINCT USER_ID) AS DISTINCT_USERS\",\n",
    "        \"FROM with_print\",\n",
    "        filter_metric,\n",
    "        \"GROUP BY METRIC_NAME, MODULE\",\n",
    "        \"ORDER BY AMOUNT DESC, DISTINCT_USERS DESC\"\n",
    "    ])\n",
    "show_metric = sqlContext_H.sql(query)"
   ]
  },
  {
   "cell_type": "code",
   "execution_count": null,
   "metadata": {
    "collapsed": false,
    "deletable": true,
    "editable": true
   },
   "outputs": [],
   "source": [
    "%%time\n",
    "show_metric.limit(20).toPandas()"
   ]
  },
  {
   "cell_type": "code",
   "execution_count": null,
   "metadata": {
    "collapsed": false,
    "deletable": true,
    "editable": true
   },
   "outputs": [],
   "source": [
    "%%time\n",
    "show_metric.write.format(\"com.databricks.spark.csv\").save(HOST + \"/csv/EDA_METRICS_10_2_METRIC_NAME_MODULE.csv\")"
   ]
  },
  {
   "cell_type": "code",
   "execution_count": null,
   "metadata": {
    "collapsed": true,
    "deletable": true,
    "editable": true
   },
   "outputs": [],
   "source": [
    "query = \" \".join([\n",
    "        \"SELECT MODULE, METRIC_NAME, COUNT(MODULE) AS AMOUNT, COUNT(DISTINCT USER_ID) AS DISTINCT_USERS\",\n",
    "        \"FROM with_print\",\n",
    "        filter_module,\n",
    "        \"GROUP BY MODULE, METRIC_NAME\",\n",
    "        \"ORDER BY AMOUNT DESC, DISTINCT_USERS DESC\"\n",
    "    ])\n",
    "show_module = sqlContext_H.sql(query)"
   ]
  },
  {
   "cell_type": "code",
   "execution_count": null,
   "metadata": {
    "collapsed": false,
    "deletable": true,
    "editable": true
   },
   "outputs": [],
   "source": [
    "%%time\n",
    "show_module.limit(20).toPandas()"
   ]
  },
  {
   "cell_type": "code",
   "execution_count": null,
   "metadata": {
    "collapsed": false,
    "deletable": true,
    "editable": true
   },
   "outputs": [],
   "source": [
    "%%time\n",
    "show_module.write.format(\"com.databricks.spark.csv\").save(HOST + \"/csv/EDA_METRICS_10_2_MODULE_METRIC_NAME.csv\")"
   ]
  },
  {
   "cell_type": "code",
   "execution_count": null,
   "metadata": {
    "collapsed": true,
    "deletable": true,
    "editable": true
   },
   "outputs": [],
   "source": [
    "query = \" \".join([\n",
    "        \"SELECT METRIC_DESCRIPTION, MODULE, METRIC_NAME, COUNT(METRIC_DESCRIPTION) AS AMOUNT, COUNT(DISTINCT USER_ID) AS DISTINCT_USERS\",\n",
    "        \"FROM with_print\",\n",
    "        filter_metric_des,\n",
    "        \"GROUP BY METRIC_DESCRIPTION, MODULE, METRIC_NAME\",\n",
    "        \"ORDER BY AMOUNT DESC, DISTINCT_USERS DESC\"\n",
    "    ])\n",
    "show_metric_des = sqlContext_H.sql(query).persist()"
   ]
  },
  {
   "cell_type": "code",
   "execution_count": null,
   "metadata": {
    "collapsed": false,
    "deletable": true,
    "editable": true
   },
   "outputs": [],
   "source": [
    "%%time\n",
    "show_metric_des.limit(20).toPandas()"
   ]
  },
  {
   "cell_type": "code",
   "execution_count": null,
   "metadata": {
    "collapsed": false,
    "deletable": true,
    "editable": true
   },
   "outputs": [],
   "source": [
    "%%time\n",
    "show_metric_des.write.format(\"com.databricks.spark.csv\").save(HOST + \"/csv/EDA_METRICS_10_2_METRIC_DESCRIPTION.csv\")"
   ]
  },
  {
   "cell_type": "code",
   "execution_count": null,
   "metadata": {
    "collapsed": false,
    "deletable": true,
    "editable": true
   },
   "outputs": [],
   "source": [
    "show_metric_des.unpersist()"
   ]
  },
  {
   "cell_type": "markdown",
   "metadata": {
    "deletable": true,
    "editable": true
   },
   "source": [
    "#### 8.3 How many such records users / patients have per day / week / hour"
   ]
  },
  {
   "cell_type": "code",
   "execution_count": null,
   "metadata": {
    "collapsed": true,
    "deletable": true,
    "editable": true
   },
   "outputs": [],
   "source": [
    "def draw_scale(rdd, x, y, z, n_label_x, n_label_y, n_label_z, title=''):\n",
    "    import numpy as np\n",
    "    import matplotlib.pyplot as plt\n",
    "    from collections import OrderedDict\n",
    "    \n",
    "    fig, ax1 = plt.subplots(figsize=(18,6))\n",
    "    \n",
    "    fig.suptitle(title, fontsize=14, fontweight='bold')\n",
    "\n",
    "    t = rdd.rdd.map(lambda p: p[x]).collect()\n",
    "    s1 = rdd.rdd.map(lambda p: p[y]).collect()\n",
    "    s2 = rdd.rdd.map(lambda p: p[z]).collect()\n",
    "    if x == 'TIME_OF_DAY':\n",
    "        d_t = range(0, 24)\n",
    "        d_s1 = {i: s1[t.index(i)] if i in t else 0 for i in range(0, 24)}\n",
    "        d_s1 = OrderedDict(sorted(d_s1.items(), key=lambda t: t[0])).values()\n",
    "\n",
    "        d_s2 = {i: s2[t.index(i)] if i in t else 0 for i in range(0, 24)}\n",
    "        d_s2 = OrderedDict(sorted(d_s2.items(), key=lambda t: t[0])).values()\n",
    "        names = d_t\n",
    "    else:\n",
    "        d_t = range(0, len(t))\n",
    "        d_s1 = s1\n",
    "        d_s2 = s2\n",
    "        names = t\n",
    "    \n",
    "    ax1.plot(d_t, d_s1, 'b-')\n",
    "    ax1.set_xlabel(n_label_x)\n",
    "    # Make the y-axis label and tick labels match the line color.\n",
    "    ax1.set_ylabel(n_label_y, color='b')\n",
    "    for tl in ax1.get_yticklabels():\n",
    "        tl.set_color('b')\n",
    "\n",
    "\n",
    "    ax2 = ax1.twinx()\n",
    "    ax2.plot(d_t, d_s2, 'r-')\n",
    "    ax2.set_ylabel(n_label_z, color='r')\n",
    "    for tl in ax2.get_yticklabels():\n",
    "        tl.set_color('r')\n",
    "    plt.xticks(np.arange(min(d_t), max(d_t)+1, 1.0), names)\n",
    "\n",
    "    plt.show()"
   ]
  },
  {
   "cell_type": "markdown",
   "metadata": {
    "deletable": true,
    "editable": true
   },
   "source": [
    "##### by hour and user"
   ]
  },
  {
   "cell_type": "code",
   "execution_count": null,
   "metadata": {
    "collapsed": false,
    "deletable": true,
    "editable": true
   },
   "outputs": [],
   "source": [
    "%%time\n",
    "query = \" \".join([\n",
    "    \"SELECT USER_ID, TIME_OF_DAY, AVG(TOTAL) AS AVG_TOTAL, SUM(TOTAL) AS TOTAL\",\n",
    "    \"FROM (SELECT USER_ID, TIME_OF_DAY, ACCESS_DTTM, COUNT(USER_ID) AS TOTAL\",\n",
    "           \"FROM with_print\",\n",
    "           \"GROUP BY USER_ID, TIME_OF_DAY, ACCESS_DTTM) AS T\",\n",
    "    \"GROUP BY TIME_OF_DAY, USER_ID\",\n",
    "    \"ORDER BY AVG_TOTAL DESC\"\n",
    "])\n",
    "c_u_h = sqlContext_H.sql(query).persist()"
   ]
  },
  {
   "cell_type": "code",
   "execution_count": null,
   "metadata": {
    "collapsed": false,
    "deletable": true,
    "editable": true
   },
   "outputs": [],
   "source": [
    "%%time\n",
    "c_u_h.limit(10).toPandas()"
   ]
  },
  {
   "cell_type": "code",
   "execution_count": null,
   "metadata": {
    "collapsed": false,
    "deletable": true,
    "editable": true
   },
   "outputs": [],
   "source": [
    "%%time\n",
    "c_u_h.write.format(\"com.databricks.spark.csv\").save(HOST + \"/csv/EDA_METRICS_10_3_hour_user.csv\")"
   ]
  },
  {
   "cell_type": "code",
   "execution_count": null,
   "metadata": {
    "collapsed": false,
    "deletable": true,
    "editable": true
   },
   "outputs": [],
   "source": [
    "draw_scale(c_u_h.filter(\"USER_ID = '313999'\"), \"TIME_OF_DAY\", \"AVG_TOTAL\", \"TOTAL\", \"Time of day\", \"AVG TOTAL\", \"TOTAL\", \"FOR USER 313999\")"
   ]
  },
  {
   "cell_type": "code",
   "execution_count": null,
   "metadata": {
    "collapsed": false,
    "deletable": true,
    "editable": true
   },
   "outputs": [],
   "source": [
    "draw_scale(c_u_h.filter(\"USER_ID = '105369'\"), \"TIME_OF_DAY\", \"AVG_TOTAL\", \"TOTAL\", \"Time of day\", \"AVG TOTAL\", \"TOTAL\", \"FOR USER 105369\")"
   ]
  },
  {
   "cell_type": "code",
   "execution_count": null,
   "metadata": {
    "collapsed": false,
    "deletable": true,
    "editable": true
   },
   "outputs": [],
   "source": [
    "draw_scale(c_u_h.filter(\"USER_ID = '706862'\"), \"TIME_OF_DAY\", \"AVG_TOTAL\", \"TOTAL\", \"Time of day\", \"AVG TOTAL\", \"TOTAL\", \"FOR USER 706862\")"
   ]
  },
  {
   "cell_type": "code",
   "execution_count": null,
   "metadata": {
    "collapsed": false,
    "deletable": true,
    "editable": true
   },
   "outputs": [],
   "source": [
    "draw_scale(c_u_h.filter(\"USER_ID = '205792'\"), \"TIME_OF_DAY\", \"AVG_TOTAL\", \"TOTAL\", \"Time of day\", \"AVG TOTAL\", \"TOTAL\", \"FOR USER 205792\")"
   ]
  },
  {
   "cell_type": "code",
   "execution_count": null,
   "metadata": {
    "collapsed": false,
    "deletable": true,
    "editable": true
   },
   "outputs": [],
   "source": [
    "draw_scale(c_u_h.filter(\"USER_ID = '10010'\"), \"TIME_OF_DAY\", \"AVG_TOTAL\", \"TOTAL\", \"Time of day\", \"AVG TOTAL\", \"TOTAL\", \"FOR USER 10010\")"
   ]
  },
  {
   "cell_type": "code",
   "execution_count": null,
   "metadata": {
    "collapsed": false,
    "deletable": true,
    "editable": true
   },
   "outputs": [],
   "source": [
    "c_u_h.unpersist()"
   ]
  }
 ],
 "metadata": {
  "kernelspec": {
   "display_name": "Python 3",
   "language": "python",
   "name": "python3"
  },
  "language_info": {
   "codemirror_mode": {
    "name": "ipython",
    "version": 3
   },
   "file_extension": ".py",
   "mimetype": "text/x-python",
   "name": "python",
   "nbconvert_exporter": "python",
   "pygments_lexer": "ipython3",
   "version": "3.5.3"
  },
  "widgets": {
   "state": {},
   "version": "1.0.0"
  }
 },
 "nbformat": 4,
 "nbformat_minor": 0
}
